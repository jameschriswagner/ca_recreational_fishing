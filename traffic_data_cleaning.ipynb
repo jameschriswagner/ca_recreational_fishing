{
 "cells": [
  {
   "cell_type": "code",
   "execution_count": 1,
   "id": "ec5c83c5-a883-4f12-9bea-0fa87b7de406",
   "metadata": {},
   "outputs": [],
   "source": [
    "import numpy as np\n",
    "import pandas as pd\n",
    "import geopandas as gpd\n",
    "import matplotlib.pyplot as plt"
   ]
  },
  {
   "cell_type": "code",
   "execution_count": 2,
   "id": "9f6de53e-8755-4aaf-94f1-e73ca812788d",
   "metadata": {},
   "outputs": [],
   "source": [
    "ll_crs = 'EPSG:4326'\n",
    "m_crs = 'EPSG:3310'"
   ]
  },
  {
   "cell_type": "markdown",
   "id": "f868edf4-6f09-4d5c-9b07-b61e0e78df92",
   "metadata": {},
   "source": [
    "# data upload"
   ]
  },
  {
   "cell_type": "code",
   "execution_count": 69,
   "id": "37aae12a-f62b-4711-aa3b-c9eb5a84a6c0",
   "metadata": {},
   "outputs": [],
   "source": [
    "AADT = gpd.read_file('raw_datasets/Traffic_Volumes_AADT/Traffic_Volumes_AADT.shp').to_crs(ll_crs)\n",
    "counties = gpd.read_file('raw_datasets/ca_counties/ca_counties.shp').to_crs(ll_crs)\n",
    "coast = gpd.read_file('raw_datasets/3853-s3_2002_s3_reg_pacific_ocean-shapefile/3853-s3_2002_s3_reg_pacific_ocean.shp').to_crs(ll_crs)\n",
    "ps_roads = gpd.read_file('raw_datasets/tl_2024_06_prisecroads/tl_2024_06_prisecroads.shp').to_crs(ll_crs)\n",
    "public_access = gpd.read_file('raw_datasets/Public_Access_Points/Public_Access_Points.shp').to_crs(ll_crs)"
   ]
  },
  {
   "cell_type": "markdown",
   "id": "8498d1ae-68df-440f-ae45-dffc0f86fc34",
   "metadata": {},
   "source": [
    "# cleaning counties"
   ]
  },
  {
   "cell_type": "code",
   "execution_count": 70,
   "id": "52871367-606a-4ad7-8e49-f0c1f1ca66d4",
   "metadata": {},
   "outputs": [],
   "source": [
    "keys = ['sd', 'ora', 'la', 'ven', 'sb', 'slo', 'mon', 'scr']\n",
    "county_keys = {'sd': 'San Diego',\n",
    "               'ora': 'Orange',\n",
    "               'la': 'Los Angeles',\n",
    "               'ven': 'Ventura',\n",
    "               'sb': 'Santa Barbara',\n",
    "               'slo': 'San Luis Obispo',\n",
    "               'mon': 'Monterey',\n",
    "               'scr': 'Santa Cruz'}"
   ]
  },
  {
   "cell_type": "code",
   "execution_count": 71,
   "id": "13ad52be-fa4a-448a-b0dd-773b32076192",
   "metadata": {},
   "outputs": [],
   "source": [
    "county_names = [county_keys[key] for key in keys]\n",
    "counties = counties.loc[[(name in county_names) for name in counties.NAME]].reset_index(drop=True)\n",
    "#counties"
   ]
  },
  {
   "cell_type": "code",
   "execution_count": 72,
   "id": "d9d90825-9b99-436c-a2bf-f8cf7b30412d",
   "metadata": {},
   "outputs": [
    {
     "data": {
      "text/plain": [
       "8"
      ]
     },
     "execution_count": 72,
     "metadata": {},
     "output_type": "execute_result"
    }
   ],
   "source": [
    "len(counties)"
   ]
  },
  {
   "cell_type": "code",
   "execution_count": 73,
   "id": "e318bda5-161f-41cd-a9e8-cc9b0d6b73e8",
   "metadata": {},
   "outputs": [
    {
     "data": {
      "text/html": [
       "<div>\n",
       "<style scoped>\n",
       "    .dataframe tbody tr th:only-of-type {\n",
       "        vertical-align: middle;\n",
       "    }\n",
       "\n",
       "    .dataframe tbody tr th {\n",
       "        vertical-align: top;\n",
       "    }\n",
       "\n",
       "    .dataframe thead th {\n",
       "        text-align: right;\n",
       "    }\n",
       "</style>\n",
       "<table border=\"1\" class=\"dataframe\">\n",
       "  <thead>\n",
       "    <tr style=\"text-align: right;\">\n",
       "      <th></th>\n",
       "      <th>STATEFP</th>\n",
       "      <th>COUNTYFP</th>\n",
       "      <th>COUNTYNS</th>\n",
       "      <th>GEOID</th>\n",
       "      <th>NAME</th>\n",
       "      <th>NAMELSAD</th>\n",
       "      <th>LSAD</th>\n",
       "      <th>CLASSFP</th>\n",
       "      <th>MTFCC</th>\n",
       "      <th>CSAFP</th>\n",
       "      <th>CBSAFP</th>\n",
       "      <th>METDIVFP</th>\n",
       "      <th>FUNCSTAT</th>\n",
       "      <th>ALAND</th>\n",
       "      <th>AWATER</th>\n",
       "      <th>INTPTLAT</th>\n",
       "      <th>INTPTLON</th>\n",
       "      <th>Shape_Leng</th>\n",
       "      <th>Shape_Area</th>\n",
       "      <th>geometry</th>\n",
       "    </tr>\n",
       "  </thead>\n",
       "  <tbody>\n",
       "    <tr>\n",
       "      <th>0</th>\n",
       "      <td>06</td>\n",
       "      <td>083</td>\n",
       "      <td>00277306</td>\n",
       "      <td>06083</td>\n",
       "      <td>Santa Barbara</td>\n",
       "      <td>Santa Barbara County</td>\n",
       "      <td>06</td>\n",
       "      <td>H1</td>\n",
       "      <td>G4020</td>\n",
       "      <td>None</td>\n",
       "      <td>42200</td>\n",
       "      <td>None</td>\n",
       "      <td>A</td>\n",
       "      <td>7.084063e+09</td>\n",
       "      <td>2.729752e+09</td>\n",
       "      <td>+34.5370572</td>\n",
       "      <td>-120.0399729</td>\n",
       "      <td>891686.747247</td>\n",
       "      <td>1.449841e+10</td>\n",
       "      <td>MULTIPOLYGON (((-120.7343 34.90069, -120.73431...</td>\n",
       "    </tr>\n",
       "    <tr>\n",
       "      <th>1</th>\n",
       "      <td>06</td>\n",
       "      <td>111</td>\n",
       "      <td>00277320</td>\n",
       "      <td>06111</td>\n",
       "      <td>Ventura</td>\n",
       "      <td>Ventura County</td>\n",
       "      <td>06</td>\n",
       "      <td>H1</td>\n",
       "      <td>G4020</td>\n",
       "      <td>348</td>\n",
       "      <td>37100</td>\n",
       "      <td>None</td>\n",
       "      <td>A</td>\n",
       "      <td>4.771988e+09</td>\n",
       "      <td>9.473454e+08</td>\n",
       "      <td>+34.3587415</td>\n",
       "      <td>-119.1331432</td>\n",
       "      <td>527772.242190</td>\n",
       "      <td>8.413293e+09</td>\n",
       "      <td>MULTIPOLYGON (((-119.32923 34.22784, -119.3292...</td>\n",
       "    </tr>\n",
       "    <tr>\n",
       "      <th>2</th>\n",
       "      <td>06</td>\n",
       "      <td>037</td>\n",
       "      <td>00277283</td>\n",
       "      <td>06037</td>\n",
       "      <td>Los Angeles</td>\n",
       "      <td>Los Angeles County</td>\n",
       "      <td>06</td>\n",
       "      <td>H1</td>\n",
       "      <td>G4020</td>\n",
       "      <td>348</td>\n",
       "      <td>31080</td>\n",
       "      <td>31084</td>\n",
       "      <td>A</td>\n",
       "      <td>1.051186e+10</td>\n",
       "      <td>1.793485e+09</td>\n",
       "      <td>+34.1963983</td>\n",
       "      <td>-118.2618616</td>\n",
       "      <td>883876.944789</td>\n",
       "      <td>1.803431e+10</td>\n",
       "      <td>MULTIPOLYGON (((-118.7034 34.1686, -118.70338 ...</td>\n",
       "    </tr>\n",
       "    <tr>\n",
       "      <th>3</th>\n",
       "      <td>06</td>\n",
       "      <td>073</td>\n",
       "      <td>00277301</td>\n",
       "      <td>06073</td>\n",
       "      <td>San Diego</td>\n",
       "      <td>San Diego County</td>\n",
       "      <td>06</td>\n",
       "      <td>H1</td>\n",
       "      <td>G4020</td>\n",
       "      <td>None</td>\n",
       "      <td>41740</td>\n",
       "      <td>None</td>\n",
       "      <td>A</td>\n",
       "      <td>1.090437e+10</td>\n",
       "      <td>8.174046e+08</td>\n",
       "      <td>+33.0236041</td>\n",
       "      <td>-116.7761174</td>\n",
       "      <td>553042.602989</td>\n",
       "      <td>1.672201e+10</td>\n",
       "      <td>POLYGON ((-117.43744 33.17953, -117.44955 33.1...</td>\n",
       "    </tr>\n",
       "    <tr>\n",
       "      <th>4</th>\n",
       "      <td>06</td>\n",
       "      <td>053</td>\n",
       "      <td>00277291</td>\n",
       "      <td>06053</td>\n",
       "      <td>Monterey</td>\n",
       "      <td>Monterey County</td>\n",
       "      <td>06</td>\n",
       "      <td>H1</td>\n",
       "      <td>G4020</td>\n",
       "      <td>None</td>\n",
       "      <td>41500</td>\n",
       "      <td>None</td>\n",
       "      <td>A</td>\n",
       "      <td>8.499617e+09</td>\n",
       "      <td>1.267800e+09</td>\n",
       "      <td>+36.2401070</td>\n",
       "      <td>-121.3155723</td>\n",
       "      <td>742255.971048</td>\n",
       "      <td>1.504587e+10</td>\n",
       "      <td>POLYGON ((-122.02682 36.54641, -122.02703 36.5...</td>\n",
       "    </tr>\n",
       "  </tbody>\n",
       "</table>\n",
       "</div>"
      ],
      "text/plain": [
       "  STATEFP COUNTYFP  COUNTYNS  GEOID           NAME              NAMELSAD LSAD  \\\n",
       "0      06      083  00277306  06083  Santa Barbara  Santa Barbara County   06   \n",
       "1      06      111  00277320  06111        Ventura        Ventura County   06   \n",
       "2      06      037  00277283  06037    Los Angeles    Los Angeles County   06   \n",
       "3      06      073  00277301  06073      San Diego      San Diego County   06   \n",
       "4      06      053  00277291  06053       Monterey       Monterey County   06   \n",
       "\n",
       "  CLASSFP  MTFCC CSAFP CBSAFP METDIVFP FUNCSTAT         ALAND        AWATER  \\\n",
       "0      H1  G4020  None  42200     None        A  7.084063e+09  2.729752e+09   \n",
       "1      H1  G4020   348  37100     None        A  4.771988e+09  9.473454e+08   \n",
       "2      H1  G4020   348  31080    31084        A  1.051186e+10  1.793485e+09   \n",
       "3      H1  G4020  None  41740     None        A  1.090437e+10  8.174046e+08   \n",
       "4      H1  G4020  None  41500     None        A  8.499617e+09  1.267800e+09   \n",
       "\n",
       "      INTPTLAT      INTPTLON     Shape_Leng    Shape_Area  \\\n",
       "0  +34.5370572  -120.0399729  891686.747247  1.449841e+10   \n",
       "1  +34.3587415  -119.1331432  527772.242190  8.413293e+09   \n",
       "2  +34.1963983  -118.2618616  883876.944789  1.803431e+10   \n",
       "3  +33.0236041  -116.7761174  553042.602989  1.672201e+10   \n",
       "4  +36.2401070  -121.3155723  742255.971048  1.504587e+10   \n",
       "\n",
       "                                            geometry  \n",
       "0  MULTIPOLYGON (((-120.7343 34.90069, -120.73431...  \n",
       "1  MULTIPOLYGON (((-119.32923 34.22784, -119.3292...  \n",
       "2  MULTIPOLYGON (((-118.7034 34.1686, -118.70338 ...  \n",
       "3  POLYGON ((-117.43744 33.17953, -117.44955 33.1...  \n",
       "4  POLYGON ((-122.02682 36.54641, -122.02703 36.5...  "
      ]
     },
     "execution_count": 73,
     "metadata": {},
     "output_type": "execute_result"
    }
   ],
   "source": [
    "counties.head()"
   ]
  },
  {
   "cell_type": "markdown",
   "id": "fbecb856-581d-4fe5-bb73-45cdc5b5ed02",
   "metadata": {},
   "source": [
    "# cleaning coastline"
   ]
  },
  {
   "cell_type": "code",
   "execution_count": 74,
   "id": "caf9b16a-576d-4888-b38c-14fbc4318472",
   "metadata": {},
   "outputs": [],
   "source": [
    "coast_boundary = coast.geometry.boundary"
   ]
  },
  {
   "cell_type": "code",
   "execution_count": 75,
   "id": "506481c1-2344-4c44-a912-18c8c915f62a",
   "metadata": {},
   "outputs": [
    {
     "data": {
      "text/plain": [
       "<Axes: >"
      ]
     },
     "execution_count": 75,
     "metadata": {},
     "output_type": "execute_result"
    },
    {
     "data": {
      "image/png": "[encoded data removed]",
      "text/plain": [
       "<Figure size 640x480 with 1 Axes>"
      ]
     },
     "metadata": {},
     "output_type": "display_data"
    }
   ],
   "source": [
    "south_coast = coast_boundary.geometry.intersection(counties.geometry.union_all())\n",
    "south_coast = gpd.GeoDataFrame(geometry=south_coast.explode(), crs=coast.crs)\n",
    "south_coast['color'] = [\n",
    "    'red', 'blue', 'green', 'yellow', 'purple', \n",
    "    'orange', 'pink', 'cyan', 'magenta', 'brown', \n",
    "    'gray', 'lime', 'teal'\n",
    "]\n",
    "south_coast.plot(color=south_coast['color'])"
   ]
  },
  {
   "cell_type": "code",
   "execution_count": 76,
   "id": "0333ea66-7dae-47f5-91e7-367e017c6851",
   "metadata": {},
   "outputs": [
    {
     "data": {
      "text/plain": [
       "<Axes: >"
      ]
     },
     "execution_count": 76,
     "metadata": {},
     "output_type": "execute_result"
    },
    {
     "data": {
      "image/png": "[encoded data removed]",
      "text/plain": [
       "<Figure size 640x480 with 1 Axes>"
      ]
     },
     "metadata": {},
     "output_type": "display_data"
    }
   ],
   "source": [
    "# these are fiesta island and vacation isle within Mission Bay\n",
    "islands = south_coast.loc[(south_coast.color == 'yellow') | (south_coast.color == 'green')]\n",
    "islands.plot()"
   ]
  },
  {
   "cell_type": "code",
   "execution_count": 77,
   "id": "984fdaad-3e55-42f1-9dff-2551de7ab1c2",
   "metadata": {},
   "outputs": [
    {
     "data": {
      "text/plain": [
       "<Geographic 2D CRS: EPSG:4326>\n",
       "Name: WGS 84\n",
       "Axis Info [ellipsoidal]:\n",
       "- Lat[north]: Geodetic latitude (degree)\n",
       "- Lon[east]: Geodetic longitude (degree)\n",
       "Area of Use:\n",
       "- name: World.\n",
       "- bounds: (-180.0, -90.0, 180.0, 90.0)\n",
       "Datum: World Geodetic System 1984 ensemble\n",
       "- Ellipsoid: WGS 84\n",
       "- Prime Meridian: Greenwich"
      ]
     },
     "execution_count": 77,
     "metadata": {},
     "output_type": "execute_result"
    }
   ],
   "source": [
    "# Filter mainland_coast based on color values\n",
    "mainland_coast = south_coast.loc[south_coast.color == 'red']\n",
    "mainland_coast.crs"
   ]
  },
  {
   "cell_type": "code",
   "execution_count": 78,
   "id": "032c8e84-f478-4026-939d-dde67ea761b9",
   "metadata": {},
   "outputs": [],
   "source": [
    "from shapely.geometry import Polygon\n",
    "\n",
    "coords = [(-122.5,37.5), (-122.5,32.4), (-116,32.4), (-116,37.5)]\n",
    "polygon = Polygon(coords)\n",
    "\n",
    "# Create a GeoDataFrame to handle and visualize the Polygon\n",
    "gdf = gpd.GeoDataFrame({'geometry': [polygon]})\n",
    "\n",
    "# Set a Coordinate Reference System (CRS) if necessary (e.g., EPSG:4326 for lat/lon)\n",
    "gdf = gdf.set_crs(ll_crs)"
   ]
  },
  {
   "cell_type": "code",
   "execution_count": 79,
   "id": "e7b2bc9c-18be-4b82-90a8-3fc19d3d334c",
   "metadata": {},
   "outputs": [
    {
     "data": {
      "text/plain": [
       "<Axes: >"
      ]
     },
     "execution_count": 79,
     "metadata": {},
     "output_type": "execute_result"
    },
    {
     "data": {
      "image/png": "[encoded data removed]",
      "text/plain": [
       "<Figure size 500x500 with 1 Axes>"
      ]
     },
     "metadata": {},
     "output_type": "display_data"
    }
   ],
   "source": [
    "fig, ax = plt.subplots(figsize=(5,5))\n",
    "\n",
    "coast.plot(ax=ax)\n",
    "counties.plot(ax=ax, color='red', alpha=0.5)\n",
    "mainland_coast.plot(ax=ax, color='yellow', linewidth=1)\n",
    "gdf.plot(ax=ax, color='green', alpha = 0.3)"
   ]
  },
  {
   "cell_type": "code",
   "execution_count": 80,
   "id": "eb835244-62c3-469a-8f90-e62005781f14",
   "metadata": {},
   "outputs": [],
   "source": [
    "# save a small version of the coastline for plotting purposes\n",
    "small_coast = coast.geometry.intersection(gdf.geometry.union_all())\n",
    "small_coast = gpd.GeoDataFrame(geometry=small_coast, crs=coast.crs)"
   ]
  },
  {
   "cell_type": "code",
   "execution_count": 81,
   "id": "a5310702-459f-4700-8777-9aeabd5c746f",
   "metadata": {},
   "outputs": [],
   "source": [
    "# save data\n",
    "mainland_coast.to_file('clean_data/coastline/mainland_coast.shp')\n",
    "small_coast.to_file('clean_data/coastline/small_coast.shp')"
   ]
  },
  {
   "cell_type": "markdown",
   "id": "0452da9a-4f95-4522-8737-5b926dde6597",
   "metadata": {},
   "source": [
    "# cleaning public access points"
   ]
  },
  {
   "cell_type": "code",
   "execution_count": 16,
   "id": "606cd0e5-d9ba-408b-bc4f-7228448e953e",
   "metadata": {},
   "outputs": [],
   "source": [
    "# only keep access points in the proper counties\n",
    "public_access = public_access.loc[public_access.geometry.intersects(counties.geometry.union_all())]"
   ]
  },
  {
   "cell_type": "code",
   "execution_count": 17,
   "id": "f1193aeb-b035-49b3-811d-42c4286a5435",
   "metadata": {},
   "outputs": [
    {
     "data": {
      "text/plain": [
       "719"
      ]
     },
     "execution_count": 17,
     "metadata": {},
     "output_type": "execute_result"
    }
   ],
   "source": [
    "# only keep public access points within 200 m of the beach and in appropriate counties\n",
    "mainland_coast = mainland_coast.to_crs(m_crs)\n",
    "buffer = mainland_coast.geometry[0].buffer(200)\n",
    "\n",
    "# only mainland public beach access within 200m of the beach itself\n",
    "beach_access = public_access.to_crs(m_crs)\n",
    "beach_access = beach_access.loc[beach_access.geometry.intersects(buffer)]\n",
    "len(beach_access)"
   ]
  },
  {
   "cell_type": "code",
   "execution_count": 18,
   "id": "a3ed6c78-7d60-4f18-85c8-365595fae66e",
   "metadata": {},
   "outputs": [],
   "source": [
    "#beach_access.FeatureTyp.value_counts()"
   ]
  },
  {
   "cell_type": "code",
   "execution_count": 19,
   "id": "443d95e5-ce37-4f6c-8ed4-227ac582fa3b",
   "metadata": {},
   "outputs": [],
   "source": [
    "# these were manually selected\n",
    "good_features = [\n",
    "    'Physical Access', 'City/County Park', 'National/State/Regional Park/Beach/Rec Area', 'Waterfront Features',\n",
    "    'Path/Trail/Drive', 'Nature Preserve/Reserve', 'GP - Harbor', 'GP - MPA', 'Water Feature', 'Physical Access/Recreational Facility',\n",
    "    'Waterfront Feature', 'Park & Physical Access'\n",
    "]\n",
    "bad_features = [\n",
    "    'Facility', 'Visual Access', 'Recreational Facility', 'GP - Town/City', 'Architectural Feature', 'Historic Feature',\n",
    "    'GP - waterbody', 'Physical and Visual Acces', 'GP - Island', 'Land Feature', 'Bridge', 'Historic Waterfront Features',\n",
    "    'GP - Facility', 'Lodging Facility', 'Waterfront Facility'\n",
    "]"
   ]
  },
  {
   "cell_type": "code",
   "execution_count": 20,
   "id": "a5c6eb14-83ef-440f-a41c-a1ae265342a4",
   "metadata": {},
   "outputs": [
    {
     "data": {
      "text/plain": [
       "606"
      ]
     },
     "execution_count": 20,
     "metadata": {},
     "output_type": "execute_result"
    }
   ],
   "source": [
    "beach_access = beach_access.loc[beach_access.FeatureTyp.isin(good_features)]\n",
    "len(beach_access)"
   ]
  },
  {
   "cell_type": "code",
   "execution_count": 21,
   "id": "778b98ca-937e-4272-89f0-96da9dcc4fdc",
   "metadata": {},
   "outputs": [
    {
     "data": {
      "text/plain": [
       "\"t = 'Waterfront Facility'\\nsub = beach_access.loc[beach_access.FeatureTyp == t]\\nsub\""
      ]
     },
     "execution_count": 21,
     "metadata": {},
     "output_type": "execute_result"
    }
   ],
   "source": [
    "'''t = 'Waterfront Facility'\n",
    "sub = beach_access.loc[beach_access.FeatureTyp == t]\n",
    "sub'''"
   ]
  },
  {
   "cell_type": "code",
   "execution_count": 22,
   "id": "17bbc50c-b7f2-443e-b951-ce138f0c44dd",
   "metadata": {},
   "outputs": [
    {
     "data": {
      "text/plain": [
       "\"fig, ax = plt.subplots(figsize=(7,7))\\n\\nsmall_coast.plot(ax=ax)\\nsub.plot(ax=ax, markersize=3, color='red')\""
      ]
     },
     "execution_count": 22,
     "metadata": {},
     "output_type": "execute_result"
    }
   ],
   "source": [
    "'''fig, ax = plt.subplots(figsize=(7,7))\n",
    "\n",
    "small_coast.plot(ax=ax)\n",
    "sub.plot(ax=ax, markersize=3, color='red')'''"
   ]
  },
  {
   "cell_type": "code",
   "execution_count": 23,
   "id": "e05268b6-5f89-42fd-8233-026485b00946",
   "metadata": {},
   "outputs": [],
   "source": [
    "# save file\n",
    "beach_access.to_file('clean_data/beach_access/beach_access.shp')"
   ]
  },
  {
   "cell_type": "markdown",
   "id": "990b326e-0aad-4eee-9e73-3e263adc7a53",
   "metadata": {},
   "source": [
    "# cleaning roads"
   ]
  },
  {
   "cell_type": "markdown",
   "id": "01035c39-1ff0-42b3-8a09-002e8389c363",
   "metadata": {},
   "source": [
    "the goal is to get (1) the nearest road to the beach_access points and (2) get the nearest primary or secondary road to each of those points"
   ]
  },
  {
   "cell_type": "markdown",
   "id": "d86324ee-e00e-4309-a9a8-85e54538ad06",
   "metadata": {},
   "source": [
    "## cleaning access roadpoints"
   ]
  },
  {
   "cell_type": "code",
   "execution_count": 24,
   "id": "74664c92-2ae7-49a7-bb28-8d9635146150",
   "metadata": {},
   "outputs": [
    {
     "data": {
      "text/html": [
       "<div>\n",
       "<style scoped>\n",
       "    .dataframe tbody tr th:only-of-type {\n",
       "        vertical-align: middle;\n",
       "    }\n",
       "\n",
       "    .dataframe tbody tr th {\n",
       "        vertical-align: top;\n",
       "    }\n",
       "\n",
       "    .dataframe thead th {\n",
       "        text-align: right;\n",
       "    }\n",
       "</style>\n",
       "<table border=\"1\" class=\"dataframe\">\n",
       "  <thead>\n",
       "    <tr style=\"text-align: right;\">\n",
       "      <th></th>\n",
       "      <th>LINEARID</th>\n",
       "      <th>FULLNAME</th>\n",
       "      <th>RTTYP</th>\n",
       "      <th>MTFCC</th>\n",
       "      <th>geometry</th>\n",
       "      <th>COUNTY</th>\n",
       "    </tr>\n",
       "  </thead>\n",
       "  <tbody>\n",
       "    <tr>\n",
       "      <th>0</th>\n",
       "      <td>110686150541</td>\n",
       "      <td>Friars Rd Rmp</td>\n",
       "      <td>M</td>\n",
       "      <td>S1400</td>\n",
       "      <td>LINESTRING (-117.16291 32.77078, -117.16295 32...</td>\n",
       "      <td>SD</td>\n",
       "    </tr>\n",
       "    <tr>\n",
       "      <th>1</th>\n",
       "      <td>11016955162933</td>\n",
       "      <td>St Exd</td>\n",
       "      <td>M</td>\n",
       "      <td>S1400</td>\n",
       "      <td>LINESTRING (-116.20903 32.61042, -116.20309 32...</td>\n",
       "      <td>SD</td>\n",
       "    </tr>\n",
       "    <tr>\n",
       "      <th>2</th>\n",
       "      <td>1103663798504</td>\n",
       "      <td>McGavran Dr Exn</td>\n",
       "      <td>M</td>\n",
       "      <td>S1400</td>\n",
       "      <td>LINESTRING (-117.25959 33.18698, -117.25948 33...</td>\n",
       "      <td>SD</td>\n",
       "    </tr>\n",
       "    <tr>\n",
       "      <th>3</th>\n",
       "      <td>1103663797349</td>\n",
       "      <td>McGavran Dr Exn</td>\n",
       "      <td>M</td>\n",
       "      <td>S1400</td>\n",
       "      <td>LINESTRING (-117.25862 33.18629, -117.25854 33...</td>\n",
       "      <td>SD</td>\n",
       "    </tr>\n",
       "    <tr>\n",
       "      <th>4</th>\n",
       "      <td>1103279037929</td>\n",
       "      <td>Tower Dr Exn</td>\n",
       "      <td>M</td>\n",
       "      <td>S1400</td>\n",
       "      <td>LINESTRING (-117.23159 33.18395, -117.23199 33...</td>\n",
       "      <td>SD</td>\n",
       "    </tr>\n",
       "  </tbody>\n",
       "</table>\n",
       "</div>"
      ],
      "text/plain": [
       "         LINEARID         FULLNAME RTTYP  MTFCC  \\\n",
       "0    110686150541    Friars Rd Rmp     M  S1400   \n",
       "1  11016955162933           St Exd     M  S1400   \n",
       "2   1103663798504  McGavran Dr Exn     M  S1400   \n",
       "3   1103663797349  McGavran Dr Exn     M  S1400   \n",
       "4   1103279037929     Tower Dr Exn     M  S1400   \n",
       "\n",
       "                                            geometry COUNTY  \n",
       "0  LINESTRING (-117.16291 32.77078, -117.16295 32...     SD  \n",
       "1  LINESTRING (-116.20903 32.61042, -116.20309 32...     SD  \n",
       "2  LINESTRING (-117.25959 33.18698, -117.25948 33...     SD  \n",
       "3  LINESTRING (-117.25862 33.18629, -117.25854 33...     SD  \n",
       "4  LINESTRING (-117.23159 33.18395, -117.23199 33...     SD  "
      ]
     },
     "execution_count": 24,
     "metadata": {},
     "output_type": "execute_result"
    }
   ],
   "source": [
    "# all roads\n",
    "roads = {}\n",
    "roads['sd'] = gpd.read_file('raw_datasets/all_roads/sd/tl_2024_06073_roads.shp').to_crs(ll_crs)\n",
    "roads['ora'] = gpd.read_file('raw_datasets/all_roads/ora/tl_2024_06059_roads.shp').to_crs(ll_crs)\n",
    "roads['la'] = gpd.read_file('raw_datasets/all_roads/la/tl_2024_06037_roads.shp').to_crs(ll_crs)\n",
    "roads['ven'] = gpd.read_file('raw_datasets/all_roads/ven/tl_2024_06111_roads.shp').to_crs(ll_crs)\n",
    "roads['sb'] = gpd.read_file('raw_datasets/all_roads/sb/tl_2024_06083_roads.shp').to_crs(ll_crs)\n",
    "roads['slo'] = gpd.read_file('raw_datasets/all_roads/slo/tl_2024_06079_roads.shp').to_crs(ll_crs)\n",
    "roads['mon'] = gpd.read_file('raw_datasets/all_roads/mon/tl_2024_06053_roads.shp').to_crs(ll_crs)\n",
    "roads['scr'] = gpd.read_file('raw_datasets/all_roads/scr/tl_2024_06087_roads.shp').to_crs(ll_crs)\n",
    "\n",
    "for key in keys:\n",
    "    roads[key]['COUNTY'] = [key.upper()] * len(roads[key])\n",
    "\n",
    "all_roads = pd.concat([roads[key] for key in keys], ignore_index=True)\n",
    "all_roads.head()"
   ]
  },
  {
   "cell_type": "code",
   "execution_count": 25,
   "id": "999fbe61-9205-4fc7-9002-9dee4d77c6c8",
   "metadata": {},
   "outputs": [],
   "source": [
    "mainland_coast = mainland_coast.to_crs(m_crs)\n",
    "\n",
    "# reduce search area to 1 km from the coast\n",
    "buffer = mainland_coast.geometry[0].buffer(2 * 1000)\n",
    "mainland_coast = mainland_coast.to_crs(ll_crs)"
   ]
  },
  {
   "cell_type": "code",
   "execution_count": 26,
   "id": "0527d991-7165-4ef5-9339-4d30af79d114",
   "metadata": {},
   "outputs": [],
   "source": [
    "all_roads = all_roads.to_crs(m_crs)\n",
    "\n",
    "# take intersection of roads with coast buffer\n",
    "coast_roads = all_roads.copy()\n",
    "coast_roads.geometry = coast_roads.geometry.apply(lambda g: g.intersection(buffer))\n",
    "coast_roads = coast_roads[~coast_roads.geometry.is_empty].reset_index(drop=True)\n",
    "coast_roads_union = coast_roads.geometry.union_all()"
   ]
  },
  {
   "cell_type": "code",
   "execution_count": 27,
   "id": "fa68f8e6-ce20-41e7-b8d6-c583e488a675",
   "metadata": {},
   "outputs": [],
   "source": [
    "nearest_roadpoints = beach_access.filter(['Name', 'geometry']).to_crs(m_crs).reset_index(drop=True)\n",
    "nearest_roadpoints['m_access'] = [None] * len(nearest_roadpoints)"
   ]
  },
  {
   "cell_type": "code",
   "execution_count": 28,
   "id": "e52528d2-a70e-4532-a80f-5631a44a838f",
   "metadata": {},
   "outputs": [
    {
     "data": {
      "text/plain": [
       "606"
      ]
     },
     "execution_count": 28,
     "metadata": {},
     "output_type": "execute_result"
    }
   ],
   "source": [
    "len(nearest_roadpoints)"
   ]
  },
  {
   "cell_type": "code",
   "execution_count": 29,
   "id": "5d734fb1-2ab4-401e-9c6c-ba0cdf7b8f38",
   "metadata": {},
   "outputs": [],
   "source": [
    "# for each access point, find nearest point on the coast_roads_union geometry\n",
    "import shapely.ops as sho\n",
    "\n",
    "for i,g in enumerate(nearest_roadpoints.geometry):\n",
    "    nearest_roadpoint = sho.nearest_points(g, coast_roads_union)[1]\n",
    "    nearest_roadpoints.loc[i, 'geometry'] = nearest_roadpoint\n",
    "    nearest_roadpoints.loc[i, 'm_access'] = g.distance(nearest_roadpoint)\n",
    "    \n",
    "nearest_roadpoints.m_access = nearest_roadpoints.m_access.astype(float)\n",
    "nearest_roadpoints = nearest_roadpoints.to_crs(ll_crs)"
   ]
  },
  {
   "cell_type": "code",
   "execution_count": 30,
   "id": "8bb95d5d-a805-431f-a63f-3ce4b328035b",
   "metadata": {},
   "outputs": [
    {
     "data": {
      "text/plain": [
       "(606, 606)"
      ]
     },
     "execution_count": 30,
     "metadata": {},
     "output_type": "execute_result"
    }
   ],
   "source": [
    "len(beach_access), len(nearest_roadpoints)"
   ]
  },
  {
   "cell_type": "code",
   "execution_count": 31,
   "id": "e5779ab8-f022-47f5-9bc8-fa02a38c4a91",
   "metadata": {},
   "outputs": [
    {
     "data": {
      "text/plain": [
       "<Axes: >"
      ]
     },
     "execution_count": 31,
     "metadata": {},
     "output_type": "execute_result"
    },
    {
     "data": {
      "image/png": "[encoded data removed]",
      "text/plain": [
       "<Figure size 500x500 with 1 Axes>"
      ]
     },
     "metadata": {},
     "output_type": "display_data"
    }
   ],
   "source": [
    "fig, ax = plt.subplots(figsize=(5,5))\n",
    "\n",
    "\n",
    "counties.plot(ax=ax, color='black')\n",
    "mainland_coast.plot(ax=ax, color='white', linewidth=0.5)\n",
    "nearest_roadpoints.plot(ax=ax, c = nearest_roadpoints.m_access, cmap='OrRd_r', markersize=5, legend=True)"
   ]
  },
  {
   "cell_type": "code",
   "execution_count": 32,
   "id": "0b9274b5-1287-4ed0-b5a1-3ebd21652546",
   "metadata": {},
   "outputs": [],
   "source": [
    "# save the nearest_roadpoints\n",
    "nearest_roadpoints.to_file('clean_data/roads/nearest_access_roads.shp')"
   ]
  },
  {
   "cell_type": "code",
   "execution_count": 33,
   "id": "c4e9430d-2604-4d83-a2c9-fac728d621ac",
   "metadata": {},
   "outputs": [
    {
     "data": {
      "text/html": [
       "<div>\n",
       "<style scoped>\n",
       "    .dataframe tbody tr th:only-of-type {\n",
       "        vertical-align: middle;\n",
       "    }\n",
       "\n",
       "    .dataframe tbody tr th {\n",
       "        vertical-align: top;\n",
       "    }\n",
       "\n",
       "    .dataframe thead th {\n",
       "        text-align: right;\n",
       "    }\n",
       "</style>\n",
       "<table border=\"1\" class=\"dataframe\">\n",
       "  <thead>\n",
       "    <tr style=\"text-align: right;\">\n",
       "      <th></th>\n",
       "      <th>Name</th>\n",
       "      <th>geometry</th>\n",
       "      <th>m_access</th>\n",
       "    </tr>\n",
       "  </thead>\n",
       "  <tbody>\n",
       "    <tr>\n",
       "      <th>0</th>\n",
       "      <td>Big Basin Redwoods State Park</td>\n",
       "      <td>POINT (-122.27989 37.09822)</td>\n",
       "      <td>20.089684</td>\n",
       "    </tr>\n",
       "    <tr>\n",
       "      <th>1</th>\n",
       "      <td>Waddell Creek Beach</td>\n",
       "      <td>POINT (-122.27794 37.09625)</td>\n",
       "      <td>138.617299</td>\n",
       "    </tr>\n",
       "    <tr>\n",
       "      <th>2</th>\n",
       "      <td>Scott Creek Beach</td>\n",
       "      <td>POINT (-122.22921 37.04078)</td>\n",
       "      <td>81.132364</td>\n",
       "    </tr>\n",
       "    <tr>\n",
       "      <th>3</th>\n",
       "      <td>Davenport Landing Beach</td>\n",
       "      <td>POINT (-122.21542 37.02485)</td>\n",
       "      <td>90.647203</td>\n",
       "    </tr>\n",
       "    <tr>\n",
       "      <th>4</th>\n",
       "      <td>Davenport Beach</td>\n",
       "      <td>POINT (-122.19255 37.00999)</td>\n",
       "      <td>140.193161</td>\n",
       "    </tr>\n",
       "  </tbody>\n",
       "</table>\n",
       "</div>"
      ],
      "text/plain": [
       "                            Name                     geometry    m_access\n",
       "0  Big Basin Redwoods State Park  POINT (-122.27989 37.09822)   20.089684\n",
       "1            Waddell Creek Beach  POINT (-122.27794 37.09625)  138.617299\n",
       "2              Scott Creek Beach  POINT (-122.22921 37.04078)   81.132364\n",
       "3        Davenport Landing Beach  POINT (-122.21542 37.02485)   90.647203\n",
       "4                Davenport Beach  POINT (-122.19255 37.00999)  140.193161"
      ]
     },
     "execution_count": 33,
     "metadata": {},
     "output_type": "execute_result"
    }
   ],
   "source": [
    "nearest_roadpoints.head()"
   ]
  },
  {
   "cell_type": "code",
   "execution_count": 34,
   "id": "a5e29524-0db0-4f4f-b04f-fe15cd8306d7",
   "metadata": {},
   "outputs": [
    {
     "data": {
      "text/plain": [
       "Name          object\n",
       "geometry    geometry\n",
       "m_access     float64\n",
       "dtype: object"
      ]
     },
     "execution_count": 34,
     "metadata": {},
     "output_type": "execute_result"
    }
   ],
   "source": [
    "nearest_roadpoints.dtypes"
   ]
  },
  {
   "cell_type": "markdown",
   "id": "6dbf3ffa-a531-4e9b-97ee-96d9ab3c4888",
   "metadata": {},
   "source": [
    "## cleaning primary and secondary roads"
   ]
  },
  {
   "cell_type": "code",
   "execution_count": 35,
   "id": "03311b73-afa7-496d-9c7e-dc2d5e7d36e7",
   "metadata": {},
   "outputs": [],
   "source": [
    "ps_roads = ps_roads.to_crs(ll_crs)\n",
    "counties = counties.to_crs(ps_roads.crs)"
   ]
  },
  {
   "cell_type": "code",
   "execution_count": 37,
   "id": "20fbf583-82d4-4368-848b-0ea21688ac9b",
   "metadata": {},
   "outputs": [],
   "source": [
    "fair = counties.geometry.union_all()\n",
    "ps_roads.geometry = ps_roads.geometry.apply(lambda g: g.intersection(fair))\n",
    "ps_roads = ps_roads.loc[~ps_roads.geometry.is_empty].reset_index(drop=True)"
   ]
  },
  {
   "cell_type": "code",
   "execution_count": 48,
   "id": "1e76a54c-a937-43e1-826c-284741cc2fc2",
   "metadata": {},
   "outputs": [],
   "source": [
    "import shapely.ops as sho\n",
    "\n",
    "ps_roads = ps_roads.to_crs(m_crs)\n",
    "nearest_roadpoints = nearest_roadpoints.to_crs(ps_roads.crs)\n",
    "ps_network = ps_roads.geometry.union_all()\n",
    "\n",
    "nearest_highway_points = nearest_roadpoints.filter(['Name', 'geometry']).copy()\n",
    "nearest_highway_points['m_road'] = [None] * len(nearest_highway_points)\n",
    "\n",
    "for i,g in enumerate(nearest_roadpoints.geometry):\n",
    "    nearest_highway_point = sho.nearest_points(g, ps_network)[1]\n",
    "    dist = g.distance(nearest_highway_point)\n",
    "    nearest_highway_points.loc[i, 'geometry'] = nearest_highway_point\n",
    "    nearest_highway_points.loc[i, 'm_road'] = dist\n",
    "\n",
    "nearest_highway_points = nearest_highway_points.to_crs(ll_crs)"
   ]
  },
  {
   "cell_type": "code",
   "execution_count": 49,
   "id": "f699616c-bb91-4e8f-873a-1972b8d50919",
   "metadata": {},
   "outputs": [
    {
     "data": {
      "text/html": [
       "<div>\n",
       "<style scoped>\n",
       "    .dataframe tbody tr th:only-of-type {\n",
       "        vertical-align: middle;\n",
       "    }\n",
       "\n",
       "    .dataframe tbody tr th {\n",
       "        vertical-align: top;\n",
       "    }\n",
       "\n",
       "    .dataframe thead th {\n",
       "        text-align: right;\n",
       "    }\n",
       "</style>\n",
       "<table border=\"1\" class=\"dataframe\">\n",
       "  <thead>\n",
       "    <tr style=\"text-align: right;\">\n",
       "      <th></th>\n",
       "      <th>Name</th>\n",
       "      <th>geometry</th>\n",
       "      <th>m_road</th>\n",
       "    </tr>\n",
       "  </thead>\n",
       "  <tbody>\n",
       "    <tr>\n",
       "      <th>0</th>\n",
       "      <td>Big Basin Redwoods State Park</td>\n",
       "      <td>POINT (-122.2805 37.09754)</td>\n",
       "      <td>92.331849</td>\n",
       "    </tr>\n",
       "    <tr>\n",
       "      <th>1</th>\n",
       "      <td>Waddell Creek Beach</td>\n",
       "      <td>POINT (-122.27794 37.09625)</td>\n",
       "      <td>0.0</td>\n",
       "    </tr>\n",
       "    <tr>\n",
       "      <th>2</th>\n",
       "      <td>Scott Creek Beach</td>\n",
       "      <td>POINT (-122.22921 37.04078)</td>\n",
       "      <td>0.0</td>\n",
       "    </tr>\n",
       "    <tr>\n",
       "      <th>3</th>\n",
       "      <td>Davenport Landing Beach</td>\n",
       "      <td>POINT (-122.21332 37.02619)</td>\n",
       "      <td>239.025155</td>\n",
       "    </tr>\n",
       "    <tr>\n",
       "      <th>4</th>\n",
       "      <td>Davenport Beach</td>\n",
       "      <td>POINT (-122.19255 37.00999)</td>\n",
       "      <td>0.0</td>\n",
       "    </tr>\n",
       "  </tbody>\n",
       "</table>\n",
       "</div>"
      ],
      "text/plain": [
       "                            Name                     geometry      m_road\n",
       "0  Big Basin Redwoods State Park   POINT (-122.2805 37.09754)   92.331849\n",
       "1            Waddell Creek Beach  POINT (-122.27794 37.09625)         0.0\n",
       "2              Scott Creek Beach  POINT (-122.22921 37.04078)         0.0\n",
       "3        Davenport Landing Beach  POINT (-122.21332 37.02619)  239.025155\n",
       "4                Davenport Beach  POINT (-122.19255 37.00999)         0.0"
      ]
     },
     "execution_count": 49,
     "metadata": {},
     "output_type": "execute_result"
    }
   ],
   "source": [
    "nearest_highway_points.head()"
   ]
  },
  {
   "cell_type": "code",
   "execution_count": 50,
   "id": "08987f97-c79d-4385-9b76-f611247d31a8",
   "metadata": {},
   "outputs": [],
   "source": [
    "# export and save\n",
    "nearest_highway_points.to_file('clean_data/roads/nearest_highway_points.shp')"
   ]
  },
  {
   "cell_type": "markdown",
   "id": "96796249-586c-45d3-93a7-0b74c96c5c20",
   "metadata": {},
   "source": [
    "# cleaning AADT data"
   ]
  },
  {
   "cell_type": "code",
   "execution_count": 82,
   "id": "c496aa1c-9f77-49cb-973d-8dbd2bc57596",
   "metadata": {},
   "outputs": [],
   "source": [
    "AADT.AHEAD_AADT = AADT.AHEAD_AADT.astype(float)\n",
    "AADT.BACK_AADT = AADT.BACK_AADT.astype(float)\n",
    "AADT = AADT.filter(['COUNTY', 'BACK_AADT', 'AHEAD_AADT', 'geometry']).groupby(['COUNTY', 'geometry']).max()"
   ]
  },
  {
   "cell_type": "code",
   "execution_count": 83,
   "id": "0c6d2ca2-8d06-4792-988f-d0137d7fa57f",
   "metadata": {},
   "outputs": [],
   "source": [
    "AADT = AADT.reset_index()\n",
    "AADT = gpd.GeoDataFrame(AADT, geometry=AADT.geometry).set_crs(ll_crs)"
   ]
  },
  {
   "cell_type": "code",
   "execution_count": 84,
   "id": "a10ed4e5-2141-4c2e-a7a7-026225fb92c6",
   "metadata": {},
   "outputs": [
    {
     "data": {
      "text/plain": [
       "['sd', 'ora', 'la', 'ven', 'sb', 'slo', 'mon', 'scr']"
      ]
     },
     "execution_count": 84,
     "metadata": {},
     "output_type": "execute_result"
    }
   ],
   "source": [
    "keys"
   ]
  },
  {
   "cell_type": "code",
   "execution_count": 85,
   "id": "f5c1ecc8-e899-45c3-8cf8-e2305cef4384",
   "metadata": {},
   "outputs": [],
   "source": [
    "AADT = AADT.loc[AADT.COUNTY.str.lower().isin(keys)]"
   ]
  },
  {
   "cell_type": "code",
   "execution_count": 86,
   "id": "8c0d7b31-43b3-46bc-be0e-998dd0c781b5",
   "metadata": {},
   "outputs": [],
   "source": [
    "AADT = AADT.loc[~(np.isnan(AADT.AHEAD_AADT) & np.isnan(AADT.BACK_AADT))].reset_index(drop=True)"
   ]
  },
  {
   "cell_type": "code",
   "execution_count": 87,
   "id": "89f3723c-b271-4cb4-b1f7-e1b0a38873c0",
   "metadata": {},
   "outputs": [],
   "source": [
    "AADT['traffic'] = AADT[['AHEAD_AADT', 'BACK_AADT']].mean(axis=1)"
   ]
  },
  {
   "cell_type": "code",
   "execution_count": 88,
   "id": "74827759-5a74-4e2b-9f5e-0f095ab13d9b",
   "metadata": {},
   "outputs": [
    {
     "data": {
      "text/plain": [
       "0"
      ]
     },
     "execution_count": 88,
     "metadata": {},
     "output_type": "execute_result"
    }
   ],
   "source": [
    "na_traffic = np.isnan(AADT.traffic)\n",
    "na_traffic.sum()"
   ]
  },
  {
   "cell_type": "code",
   "execution_count": 90,
   "id": "01ff1c05-36e6-44f8-9c76-28f8646d0d0c",
   "metadata": {},
   "outputs": [
    {
     "data": {
      "text/plain": [
       "120.0"
      ]
     },
     "execution_count": 90,
     "metadata": {},
     "output_type": "execute_result"
    }
   ],
   "source": [
    "AADT.traffic.min()"
   ]
  },
  {
   "cell_type": "code",
   "execution_count": 91,
   "id": "68aeecfd-3dfe-4dbd-b2ce-7b5b05c292cf",
   "metadata": {},
   "outputs": [
    {
     "data": {
      "text/plain": [
       "<Axes: >"
      ]
     },
     "execution_count": 91,
     "metadata": {},
     "output_type": "execute_result"
    },
    {
     "data": {
      "image/png": "[encoded data removed]",
      "text/plain": [
       "<Figure size 640x480 with 1 Axes>"
      ]
     },
     "metadata": {},
     "output_type": "display_data"
    }
   ],
   "source": [
    "AADT.plot(c=AADT.traffic, cmap='OrRd_r', legend=True, markersize = 1)"
   ]
  },
  {
   "cell_type": "code",
   "execution_count": 92,
   "id": "f05c9cee-4b15-4e62-a558-4758de3af6f8",
   "metadata": {},
   "outputs": [],
   "source": [
    "# create a 10 km buffer\n",
    "mainland_coast = mainland_coast.to_crs(m_crs)\n",
    "buffer_10km = mainland_coast.geometry[0].buffer(10 * 1000)"
   ]
  },
  {
   "cell_type": "code",
   "execution_count": 93,
   "id": "48968c28-63b6-4683-a710-fde2a4748dfa",
   "metadata": {},
   "outputs": [],
   "source": [
    "AADT = AADT.to_crs(mainland_coast.crs)\n",
    "within_10km_coast = AADT.geometry.intersects(buffer_10km)"
   ]
  },
  {
   "cell_type": "code",
   "execution_count": 94,
   "id": "4e04e589-042d-4571-a277-63dc802b75ef",
   "metadata": {},
   "outputs": [
    {
     "data": {
      "text/plain": [
       "0.37002404488378304"
      ]
     },
     "execution_count": 94,
     "metadata": {},
     "output_type": "execute_result"
    }
   ],
   "source": [
    "within_10km_coast.mean()"
   ]
  },
  {
   "cell_type": "code",
   "execution_count": 95,
   "id": "b0c6245b-9405-4020-954a-df9a08e70c74",
   "metadata": {},
   "outputs": [],
   "source": [
    "AADT['coastal'] = within_10km_coast"
   ]
  },
  {
   "cell_type": "code",
   "execution_count": 96,
   "id": "25e4f6f0-0eb9-4e51-acfe-7e9fcda06238",
   "metadata": {},
   "outputs": [],
   "source": [
    "AADT = AADT.to_crs(ll_crs)"
   ]
  },
  {
   "cell_type": "code",
   "execution_count": 97,
   "id": "02cf3bc0-ae02-4e17-951e-f94ebb360845",
   "metadata": {},
   "outputs": [
    {
     "data": {
      "text/html": [
       "<div>\n",
       "<style scoped>\n",
       "    .dataframe tbody tr th:only-of-type {\n",
       "        vertical-align: middle;\n",
       "    }\n",
       "\n",
       "    .dataframe tbody tr th {\n",
       "        vertical-align: top;\n",
       "    }\n",
       "\n",
       "    .dataframe thead th {\n",
       "        text-align: right;\n",
       "    }\n",
       "</style>\n",
       "<table border=\"1\" class=\"dataframe\">\n",
       "  <thead>\n",
       "    <tr style=\"text-align: right;\">\n",
       "      <th></th>\n",
       "      <th>COUNTY</th>\n",
       "      <th>geometry</th>\n",
       "      <th>BACK_AADT</th>\n",
       "      <th>AHEAD_AADT</th>\n",
       "      <th>traffic</th>\n",
       "      <th>coastal</th>\n",
       "    </tr>\n",
       "  </thead>\n",
       "  <tbody>\n",
       "    <tr>\n",
       "      <th>0</th>\n",
       "      <td>LA</td>\n",
       "      <td>POINT (-117.69235 34.1246)</td>\n",
       "      <td>168000.0</td>\n",
       "      <td>NaN</td>\n",
       "      <td>168000.0</td>\n",
       "      <td>False</td>\n",
       "    </tr>\n",
       "    <tr>\n",
       "      <th>1</th>\n",
       "      <td>LA</td>\n",
       "      <td>POINT (-117.69251 34.12421)</td>\n",
       "      <td>168000.0</td>\n",
       "      <td>NaN</td>\n",
       "      <td>168000.0</td>\n",
       "      <td>False</td>\n",
       "    </tr>\n",
       "    <tr>\n",
       "      <th>2</th>\n",
       "      <td>LA</td>\n",
       "      <td>POINT (-117.69668 34.1216)</td>\n",
       "      <td>151000.0</td>\n",
       "      <td>160000.0</td>\n",
       "      <td>155500.0</td>\n",
       "      <td>False</td>\n",
       "    </tr>\n",
       "    <tr>\n",
       "      <th>3</th>\n",
       "      <td>LA</td>\n",
       "      <td>POINT (-117.69625 34.12159)</td>\n",
       "      <td>151000.0</td>\n",
       "      <td>160000.0</td>\n",
       "      <td>155500.0</td>\n",
       "      <td>False</td>\n",
       "    </tr>\n",
       "    <tr>\n",
       "      <th>4</th>\n",
       "      <td>LA</td>\n",
       "      <td>POINT (-117.71941 34.08166)</td>\n",
       "      <td>265000.0</td>\n",
       "      <td>265000.0</td>\n",
       "      <td>265000.0</td>\n",
       "      <td>False</td>\n",
       "    </tr>\n",
       "    <tr>\n",
       "      <th>...</th>\n",
       "      <td>...</td>\n",
       "      <td>...</td>\n",
       "      <td>...</td>\n",
       "      <td>...</td>\n",
       "      <td>...</td>\n",
       "      <td>...</td>\n",
       "    </tr>\n",
       "    <tr>\n",
       "      <th>3738</th>\n",
       "      <td>VEN</td>\n",
       "      <td>POINT (-119.08195 34.11236)</td>\n",
       "      <td>8800.0</td>\n",
       "      <td>8800.0</td>\n",
       "      <td>8800.0</td>\n",
       "      <td>True</td>\n",
       "    </tr>\n",
       "    <tr>\n",
       "      <th>3739</th>\n",
       "      <td>VEN</td>\n",
       "      <td>POINT (-118.63555 34.26786)</td>\n",
       "      <td>101000.0</td>\n",
       "      <td>100000.0</td>\n",
       "      <td>100500.0</td>\n",
       "      <td>False</td>\n",
       "    </tr>\n",
       "    <tr>\n",
       "      <th>3740</th>\n",
       "      <td>VEN</td>\n",
       "      <td>POINT (-118.6357 34.268)</td>\n",
       "      <td>101000.0</td>\n",
       "      <td>100000.0</td>\n",
       "      <td>100500.0</td>\n",
       "      <td>False</td>\n",
       "    </tr>\n",
       "    <tr>\n",
       "      <th>3741</th>\n",
       "      <td>VEN</td>\n",
       "      <td>POINT (-118.6334 34.26958)</td>\n",
       "      <td>100000.0</td>\n",
       "      <td>NaN</td>\n",
       "      <td>100000.0</td>\n",
       "      <td>False</td>\n",
       "    </tr>\n",
       "    <tr>\n",
       "      <th>3742</th>\n",
       "      <td>VEN</td>\n",
       "      <td>POINT (-118.63343 34.26988)</td>\n",
       "      <td>100000.0</td>\n",
       "      <td>NaN</td>\n",
       "      <td>100000.0</td>\n",
       "      <td>False</td>\n",
       "    </tr>\n",
       "  </tbody>\n",
       "</table>\n",
       "<p>3743 rows × 6 columns</p>\n",
       "</div>"
      ],
      "text/plain": [
       "     COUNTY                     geometry  BACK_AADT  AHEAD_AADT   traffic  \\\n",
       "0        LA   POINT (-117.69235 34.1246)   168000.0         NaN  168000.0   \n",
       "1        LA  POINT (-117.69251 34.12421)   168000.0         NaN  168000.0   \n",
       "2        LA   POINT (-117.69668 34.1216)   151000.0    160000.0  155500.0   \n",
       "3        LA  POINT (-117.69625 34.12159)   151000.0    160000.0  155500.0   \n",
       "4        LA  POINT (-117.71941 34.08166)   265000.0    265000.0  265000.0   \n",
       "...     ...                          ...        ...         ...       ...   \n",
       "3738    VEN  POINT (-119.08195 34.11236)     8800.0      8800.0    8800.0   \n",
       "3739    VEN  POINT (-118.63555 34.26786)   101000.0    100000.0  100500.0   \n",
       "3740    VEN     POINT (-118.6357 34.268)   101000.0    100000.0  100500.0   \n",
       "3741    VEN   POINT (-118.6334 34.26958)   100000.0         NaN  100000.0   \n",
       "3742    VEN  POINT (-118.63343 34.26988)   100000.0         NaN  100000.0   \n",
       "\n",
       "      coastal  \n",
       "0       False  \n",
       "1       False  \n",
       "2       False  \n",
       "3       False  \n",
       "4       False  \n",
       "...       ...  \n",
       "3738     True  \n",
       "3739    False  \n",
       "3740    False  \n",
       "3741    False  \n",
       "3742    False  \n",
       "\n",
       "[3743 rows x 6 columns]"
      ]
     },
     "execution_count": 97,
     "metadata": {},
     "output_type": "execute_result"
    }
   ],
   "source": [
    "AADT"
   ]
  },
  {
   "cell_type": "code",
   "execution_count": 98,
   "id": "781fe792-c8c0-4e44-89b5-820de86c34a0",
   "metadata": {},
   "outputs": [],
   "source": [
    "# save file and export\n",
    "AADT.to_file('clean_data/AADT/AADT.shp')"
   ]
  },
  {
   "cell_type": "code",
   "execution_count": null,
   "id": "0addd003-83e4-4c2e-9466-8a28e6f27be7",
   "metadata": {},
   "outputs": [],
   "source": []
  }
 ],
 "metadata": {
  "kernelspec": {
   "display_name": "Python 3 (ipykernel)",
   "language": "python",
   "name": "python3"
  },
  "language_info": {
   "codemirror_mode": {
    "name": "ipython",
    "version": 3
   },
   "file_extension": ".py",
   "mimetype": "text/x-python",
   "name": "python",
   "nbconvert_exporter": "python",
   "pygments_lexer": "ipython3",
   "version": "3.12.2"
  }
 },
 "nbformat": 4,
 "nbformat_minor": 5
}
