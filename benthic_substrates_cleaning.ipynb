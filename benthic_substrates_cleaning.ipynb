{
 "cells": [
  {
   "cell_type": "code",
   "execution_count": 1,
   "id": "37d36dd1-9c9e-45af-a4e8-80e4b3831a60",
   "metadata": {},
   "outputs": [],
   "source": [
    "import geopandas as gpd\n",
    "import matplotlib.pyplot as plt\n",
    "import numpy as np\n",
    "import pandas as pd"
   ]
  },
  {
   "cell_type": "code",
   "execution_count": 2,
   "id": "5cda707d-00fd-474f-b066-ecfc51e2ee36",
   "metadata": {},
   "outputs": [],
   "source": [
    "m_crs = 'EPSG:26910'\n",
    "ll_crs = 'EPSG:4326'"
   ]
  },
  {
   "cell_type": "code",
   "execution_count": 3,
   "id": "9d03f252-0b73-437c-8059-2b254dad0767",
   "metadata": {},
   "outputs": [],
   "source": [
    "benthic = gpd.read_file('clean_data/benthic/benthic_substrates.shp')"
   ]
  },
  {
   "cell_type": "code",
   "execution_count": 4,
   "id": "110c14fc-0e82-4378-97c7-28e93a3b030a",
   "metadata": {},
   "outputs": [],
   "source": [
    "coastline = gpd.read_file('clean_data/coastline/mainland_coast.shp') # linestring gdf\n",
    "ocean = gpd.read_file('clean_data/coastline/small_coast.shp') # for plotting\n",
    "\n",
    "counties = gpd.read_file('raw_datasets/ca_counties/ca_counties.shp').to_crs(ll_crs)\n",
    "keys = ['sd', 'ora', 'la', 'ven', 'sb', 'slo', 'mon', 'scr']\n",
    "county_keys = {'sd': 'San Diego',\n",
    "               'ora': 'Orange',\n",
    "               'la': 'Los Angeles',\n",
    "               'ven': 'Ventura',\n",
    "               'sb': 'Santa Barbara',\n",
    "               'slo': 'San Luis Obispo',\n",
    "               'mon': 'Monterey',\n",
    "               'scr': 'Santa Cruz'}\n",
    "county_names = [county_keys[key] for key in keys]\n",
    "counties = counties.loc[[(name in county_names) for name in counties.NAME]].reset_index(drop=True)"
   ]
  },
  {
   "cell_type": "code",
   "execution_count": 5,
   "id": "b1c8266f-c780-431d-8082-041001d25c5d",
   "metadata": {},
   "outputs": [],
   "source": [
    "# relevant reefs are hard substrate from 0-100m depth, where recreational fishing might potentially occur\n",
    "rocks = benthic.loc[(benthic.Sub == 'Hard') & (benthic.zone.isin(['0 - 30m', '30 - 100m']))].reset_index(drop=True)"
   ]
  },
  {
   "cell_type": "code",
   "execution_count": 6,
   "id": "af576580-e508-40d9-b4d4-0118d3ac1f03",
   "metadata": {},
   "outputs": [
    {
     "data": {
      "text/html": [
       "<div>\n",
       "<style scoped>\n",
       "    .dataframe tbody tr th:only-of-type {\n",
       "        vertical-align: middle;\n",
       "    }\n",
       "\n",
       "    .dataframe tbody tr th {\n",
       "        vertical-align: top;\n",
       "    }\n",
       "\n",
       "    .dataframe thead th {\n",
       "        text-align: right;\n",
       "    }\n",
       "</style>\n",
       "<table border=\"1\" class=\"dataframe\">\n",
       "  <thead>\n",
       "    <tr style=\"text-align: right;\">\n",
       "      <th></th>\n",
       "      <th>X</th>\n",
       "      <th>Y</th>\n",
       "      <th>zone</th>\n",
       "      <th>Sub</th>\n",
       "      <th>Shp_Lng</th>\n",
       "      <th>Shap_Ar</th>\n",
       "      <th>geometry</th>\n",
       "    </tr>\n",
       "  </thead>\n",
       "  <tbody>\n",
       "    <tr>\n",
       "      <th>0</th>\n",
       "      <td>117° 30.000' W</td>\n",
       "      <td>32° 30.000' N</td>\n",
       "      <td>0 - 30m</td>\n",
       "      <td>Hard</td>\n",
       "      <td>3.708466e+06</td>\n",
       "      <td>2.948578e+07</td>\n",
       "      <td>MULTIPOLYGON (((-117.18346 32.53525, -117.1834...</td>\n",
       "    </tr>\n",
       "    <tr>\n",
       "      <th>1</th>\n",
       "      <td>117° 30.000' W</td>\n",
       "      <td>32° 30.000' N</td>\n",
       "      <td>30 - 100m</td>\n",
       "      <td>Hard</td>\n",
       "      <td>2.396943e+06</td>\n",
       "      <td>9.975115e+06</td>\n",
       "      <td>MULTIPOLYGON (((-117.18445 32.53172, -117.1844...</td>\n",
       "    </tr>\n",
       "    <tr>\n",
       "      <th>2</th>\n",
       "      <td>117° 30.000' W</td>\n",
       "      <td>33° 30.000' N</td>\n",
       "      <td>0 - 30m</td>\n",
       "      <td>Hard</td>\n",
       "      <td>3.558815e+05</td>\n",
       "      <td>6.719849e+06</td>\n",
       "      <td>MULTIPOLYGON (((-117.28927 33.00091, -117.2893...</td>\n",
       "    </tr>\n",
       "    <tr>\n",
       "      <th>3</th>\n",
       "      <td>117° 30.000' W</td>\n",
       "      <td>33° 30.000' N</td>\n",
       "      <td>30 - 100m</td>\n",
       "      <td>Hard</td>\n",
       "      <td>1.983232e+05</td>\n",
       "      <td>6.995900e+05</td>\n",
       "      <td>MULTIPOLYGON (((-117.31341 33.00092, -117.3134...</td>\n",
       "    </tr>\n",
       "    <tr>\n",
       "      <th>4</th>\n",
       "      <td>118° 30.000' W</td>\n",
       "      <td>32° 30.000' N</td>\n",
       "      <td>0 - 30m</td>\n",
       "      <td>Hard</td>\n",
       "      <td>5.504301e+05</td>\n",
       "      <td>2.358881e+07</td>\n",
       "      <td>MULTIPOLYGON (((-118.41532 32.79961, -118.4153...</td>\n",
       "    </tr>\n",
       "  </tbody>\n",
       "</table>\n",
       "</div>"
      ],
      "text/plain": [
       "                X              Y       zone   Sub       Shp_Lng       Shap_Ar  \\\n",
       "0  117° 30.000' W  32° 30.000' N    0 - 30m  Hard  3.708466e+06  2.948578e+07   \n",
       "1  117° 30.000' W  32° 30.000' N  30 - 100m  Hard  2.396943e+06  9.975115e+06   \n",
       "2  117° 30.000' W  33° 30.000' N    0 - 30m  Hard  3.558815e+05  6.719849e+06   \n",
       "3  117° 30.000' W  33° 30.000' N  30 - 100m  Hard  1.983232e+05  6.995900e+05   \n",
       "4  118° 30.000' W  32° 30.000' N    0 - 30m  Hard  5.504301e+05  2.358881e+07   \n",
       "\n",
       "                                            geometry  \n",
       "0  MULTIPOLYGON (((-117.18346 32.53525, -117.1834...  \n",
       "1  MULTIPOLYGON (((-117.18445 32.53172, -117.1844...  \n",
       "2  MULTIPOLYGON (((-117.28927 33.00091, -117.2893...  \n",
       "3  MULTIPOLYGON (((-117.31341 33.00092, -117.3134...  \n",
       "4  MULTIPOLYGON (((-118.41532 32.79961, -118.4153...  "
      ]
     },
     "execution_count": 6,
     "metadata": {},
     "output_type": "execute_result"
    }
   ],
   "source": [
    "rocks.head()"
   ]
  },
  {
   "cell_type": "markdown",
   "id": "dc24a7b6-e3a6-42f9-8993-4dc02be5ed44",
   "metadata": {},
   "source": [
    "# split reefs up and subset for within study region and within 5km of the coastline"
   ]
  },
  {
   "cell_type": "code",
   "execution_count": 7,
   "id": "190ed09a-565e-4679-b14f-3f5f93a7d6d5",
   "metadata": {},
   "outputs": [],
   "source": [
    "ex = rocks.filter(['zone', 'Sub', 'geometry']).explode().reset_index(drop=True)"
   ]
  },
  {
   "cell_type": "code",
   "execution_count": 8,
   "id": "d07e17c3-1540-4b45-a5f3-c6138fa54cab",
   "metadata": {},
   "outputs": [],
   "source": [
    "# filter for only reefs within this square\n",
    "from shapely.geometry import Polygon\n",
    "\n",
    "coords = [(-122.5,37.5), (-122.5,32.4), (-116,32.4), (-116,37.5)]\n",
    "polygon = Polygon(coords)\n",
    "\n",
    "# Create a GeoDataFrame to handle and visualize the Polygon\n",
    "gdf = gpd.GeoDataFrame({'geometry': [polygon]})\n",
    "\n",
    "# Set a Coordinate Reference System (CRS) if necessary (e.g., EPSG:4326 for lat/lon)\n",
    "gdf = gdf.set_crs(ll_crs)\n",
    "gdf = gdf.to_crs(ex.crs)\n",
    "\n",
    "# filter reefs within target region\n",
    "within_target = ex.geometry.intersects(gdf.geometry[0])\n",
    "ex = ex.loc[within_target].reset_index(drop=True)"
   ]
  },
  {
   "cell_type": "code",
   "execution_count": 9,
   "id": "da0ff48e-37d4-4a8d-9409-7c4172e6b639",
   "metadata": {},
   "outputs": [],
   "source": [
    "# make a 5km buffer from the coastline and only keep reefs there\n",
    "coastline = coastline.to_crs(m_crs)\n",
    "buffer = coastline.geometry[0].buffer(5 * 1000)\n",
    "\n",
    "ex = ex.to_crs(coastline.crs)\n",
    "within_buffer = ex.geometry.intersects(buffer)\n",
    "ex = ex.loc[ex.geometry.intersects(buffer)].reset_index(drop=True)"
   ]
  },
  {
   "cell_type": "code",
   "execution_count": 10,
   "id": "e5063810-ce1c-4032-9708-9c2992705516",
   "metadata": {},
   "outputs": [
    {
     "data": {
      "text/plain": [
       "450576"
      ]
     },
     "execution_count": 10,
     "metadata": {},
     "output_type": "execute_result"
    }
   ],
   "source": [
    "ex = ex.to_crs(ll_crs)\n",
    "coastline = coastline.to_crs(ex.crs)\n",
    "len(ex)"
   ]
  },
  {
   "cell_type": "code",
   "execution_count": 11,
   "id": "e88b0272-ca8e-4790-924a-cb65721aa41a",
   "metadata": {
    "scrolled": true
   },
   "outputs": [
    {
     "data": {
      "text/plain": [
       "\"fig, ax = plt.subplots(figsize=(10,10))\\n\\ncounties.plot(ax=ax, color='red', alpha=0.5)\\nocean.plot(ax=ax, color = 'lightblue')\\ncoastline.plot(ax=ax, color='white', linewidth=1)\\n\\nex.plot(ax=ax, color = 'gray')\""
      ]
     },
     "execution_count": 11,
     "metadata": {},
     "output_type": "execute_result"
    }
   ],
   "source": [
    "'''fig, ax = plt.subplots(figsize=(10,10))\n",
    "\n",
    "counties.plot(ax=ax, color='red', alpha=0.5)\n",
    "ocean.plot(ax=ax, color = 'lightblue')\n",
    "coastline.plot(ax=ax, color='white', linewidth=1)\n",
    "\n",
    "ex.plot(ax=ax, color = 'gray')'''"
   ]
  },
  {
   "cell_type": "markdown",
   "id": "ca9edf84-fd8b-46a6-850d-28f7dccfef97",
   "metadata": {},
   "source": [
    "# simplify remaining geometries using the Ramer–Douglas–Peucker algorithm (shapely.simplify()"
   ]
  },
  {
   "cell_type": "code",
   "execution_count": 12,
   "id": "231beed2-f708-440a-a12f-97dd02a11b36",
   "metadata": {},
   "outputs": [],
   "source": [
    "g = ex.geometry[11]"
   ]
  },
  {
   "cell_type": "code",
   "execution_count": 13,
   "id": "b0eaaaf9-b67b-4283-a618-791ace4639f1",
   "metadata": {},
   "outputs": [
    {
     "data": {
      "text/plain": [
       "4.803430322806675e-09"
      ]
     },
     "execution_count": 13,
     "metadata": {},
     "output_type": "execute_result"
    }
   ],
   "source": [
    "g.area"
   ]
  },
  {
   "cell_type": "code",
   "execution_count": 14,
   "id": "d28c026d-8dd7-4dd7-928c-6b293f6ddff6",
   "metadata": {},
   "outputs": [
    {
     "data": {
      "image/svg+xml": [
       "<svg xmlns=\"http://www.w3.org/2000/svg\" xmlns:xlink=\"http://www.w3.org/1999/xlink\" width=\"100.0\" height=\"100.0\" viewBox=\"-117.176867601854 32.53781589781607 0.00011511139237541101 5.3780492144994696e-05\" preserveAspectRatio=\"xMinYMin meet\"><g transform=\"matrix(1,0,0,-1,0,65.07568557612427)\"><path fill-rule=\"evenodd\" fill=\"#66cc99\" stroke=\"#555555\" stroke-width=\"2.3022278475082203e-06\" opacity=\"0.6\" d=\"M -117.17686324992816,32.53782016120097 L -117.17686333846909,32.537865265355585 L -117.17675684232783,32.53786541492331 L -117.17675675384653,32.537820310768545 L -117.17686324992816,32.53782016120097 z\" /></g></svg>"
      ],
      "text/plain": [
       "<POLYGON ((-117.177 32.538, -117.177 32.538, -117.177 32.538, -117.177 32.53...>"
      ]
     },
     "execution_count": 14,
     "metadata": {},
     "output_type": "execute_result"
    }
   ],
   "source": [
    "g"
   ]
  },
  {
   "cell_type": "code",
   "execution_count": 15,
   "id": "e2dca0cc-956b-4892-acd2-6b661b1cc4ac",
   "metadata": {},
   "outputs": [],
   "source": [
    "from shapely import simplify"
   ]
  },
  {
   "cell_type": "code",
   "execution_count": 16,
   "id": "72e61559-a40c-4e1f-b452-9511f1d95016",
   "metadata": {},
   "outputs": [
    {
     "data": {
      "image/svg+xml": [
       "<svg xmlns=\"http://www.w3.org/2000/svg\" xmlns:xlink=\"http://www.w3.org/1999/xlink\" width=\"100.0\" height=\"100.0\" viewBox=\"-117.176867601854 32.53781604738364 0.00011511139237541101 5.3630924568892624e-05\" preserveAspectRatio=\"xMinYMin meet\"><g transform=\"matrix(1,0,0,-1,0,65.07568572569186)\"><path fill-rule=\"evenodd\" fill=\"#66cc99\" stroke=\"#555555\" stroke-width=\"2.3022278475082203e-06\" opacity=\"0.6\" d=\"M -117.17675675384653,32.537820310768545 L -117.17686333846909,32.537865265355585 L -117.17675684232783,32.53786541492331 L -117.17675675384653,32.537820310768545 z\" /></g></svg>"
      ],
      "text/plain": [
       "<POLYGON ((-117.177 32.538, -117.177 32.538, -117.177 32.538, -117.177 32.538))>"
      ]
     },
     "execution_count": 16,
     "metadata": {},
     "output_type": "execute_result"
    }
   ],
   "source": [
    "simplify(g, 5)"
   ]
  },
  {
   "cell_type": "code",
   "execution_count": 17,
   "id": "e35143ce-d8b2-4727-94f6-c7a95a40ce45",
   "metadata": {},
   "outputs": [],
   "source": [
    "# simplify within tolerance 5m\n",
    "from shapely import simplify\n",
    "simple = ex.copy().to_crs(m_crs)\n",
    "\n",
    "epsilon = 5 # 5m tolerance\n",
    "simple.geometry = ex.geometry.apply(lambda g: simplify(g, epsilon))"
   ]
  },
  {
   "cell_type": "code",
   "execution_count": 18,
   "id": "2a29bb5b-dba3-41a5-ab0d-2606430ec704",
   "metadata": {},
   "outputs": [],
   "source": [
    "simple = simple.to_crs(ll_crs)"
   ]
  },
  {
   "cell_type": "code",
   "execution_count": 19,
   "id": "44e70b12-8978-4887-818a-0d335144ae1a",
   "metadata": {},
   "outputs": [
    {
     "data": {
      "text/plain": [
       "<Axes: >"
      ]
     },
     "execution_count": 19,
     "metadata": {},
     "output_type": "execute_result"
    },
    {
     "data": {
      "image/png": "[encoded data removed]",
      "text/plain": [
       "<Figure size 1000x1000 with 1 Axes>"
      ]
     },
     "metadata": {},
     "output_type": "display_data"
    }
   ],
   "source": [
    "fig, ax = plt.subplots(figsize=(10,10))\n",
    "\n",
    "counties.plot(ax=ax, color='red', alpha=0.5)\n",
    "ocean.plot(ax=ax, color = 'lightblue')\n",
    "coastline.plot(ax=ax, color='white', linewidth=1)\n",
    "\n",
    "simple.plot(ax=ax, color = 'gray')"
   ]
  },
  {
   "cell_type": "code",
   "execution_count": 20,
   "id": "fd9d436f-7914-480c-a97d-391b4e3350b0",
   "metadata": {},
   "outputs": [],
   "source": [
    "ex_num_vertices = [ex.geometry.apply(lambda g: len(g.exterior.coords))]"
   ]
  },
  {
   "cell_type": "code",
   "execution_count": 21,
   "id": "dbddcaf1-41f1-43a6-8696-c146cc111803",
   "metadata": {},
   "outputs": [],
   "source": [
    "simple_num_vertices = [simple.geometry.apply(lambda g: len(g.exterior.coords))]"
   ]
  },
  {
   "cell_type": "code",
   "execution_count": 22,
   "id": "52d93789-0957-4732-a4b2-504952e0048d",
   "metadata": {},
   "outputs": [
    {
     "data": {
      "text/plain": [
       "27.91328876815454"
      ]
     },
     "execution_count": 22,
     "metadata": {},
     "output_type": "execute_result"
    }
   ],
   "source": [
    "np.mean(ex_num_vertices)"
   ]
  },
  {
   "cell_type": "code",
   "execution_count": 23,
   "id": "78f6f2b4-30ea-4859-80a3-705554d35a2c",
   "metadata": {},
   "outputs": [
    {
     "data": {
      "text/plain": [
       "4.20909458115834"
      ]
     },
     "execution_count": 23,
     "metadata": {},
     "output_type": "execute_result"
    }
   ],
   "source": [
    "np.mean(simple_num_vertices)"
   ]
  },
  {
   "cell_type": "markdown",
   "id": "1bc593ee-eb7b-4926-9961-c640e390d78a",
   "metadata": {},
   "source": [
    "# further simplify geometry with buffer method"
   ]
  },
  {
   "cell_type": "code",
   "execution_count": 24,
   "id": "a017d6d1-3ce9-48b5-be65-75a53c913d0d",
   "metadata": {},
   "outputs": [],
   "source": [
    "# buffer is at 200m\n",
    "simple = simple.to_crs(m_crs)"
   ]
  },
  {
   "cell_type": "code",
   "execution_count": 25,
   "id": "4c4a338a-f1e2-40aa-9af9-a5ac0fb0a92a",
   "metadata": {},
   "outputs": [],
   "source": [
    "simple_buffer = simple.geometry.apply(lambda g: g.buffer(200))"
   ]
  },
  {
   "cell_type": "code",
   "execution_count": 26,
   "id": "072be6e1-0dfc-4d28-9db3-3ce19e618685",
   "metadata": {},
   "outputs": [],
   "source": [
    "simple_buffer_union = simple_buffer.union_all()"
   ]
  },
  {
   "cell_type": "code",
   "execution_count": 27,
   "id": "96d65482-5aaf-4c25-b31f-9eadbc08e9c7",
   "metadata": {},
   "outputs": [],
   "source": [
    "simple_buffer =gpd.GeoDataFrame(geometry=[simple_buffer_union], crs = simple.crs)"
   ]
  },
  {
   "cell_type": "code",
   "execution_count": 28,
   "id": "ae4d982c-367b-4d57-ad3e-c027499506a8",
   "metadata": {},
   "outputs": [],
   "source": [
    "simple_buffer_exploded = simple_buffer.explode()"
   ]
  },
  {
   "cell_type": "code",
   "execution_count": 29,
   "id": "68bed11b-0d09-4e47-a520-8c02bb63c58a",
   "metadata": {},
   "outputs": [
    {
     "data": {
      "text/plain": [
       "486"
      ]
     },
     "execution_count": 29,
     "metadata": {},
     "output_type": "execute_result"
    }
   ],
   "source": [
    "len(simple_buffer_exploded)"
   ]
  },
  {
   "cell_type": "code",
   "execution_count": 30,
   "id": "16742727-b061-454a-a195-2a0c73fff8f1",
   "metadata": {},
   "outputs": [
    {
     "data": {
      "text/html": [
       "<div>\n",
       "<style scoped>\n",
       "    .dataframe tbody tr th:only-of-type {\n",
       "        vertical-align: middle;\n",
       "    }\n",
       "\n",
       "    .dataframe tbody tr th {\n",
       "        vertical-align: top;\n",
       "    }\n",
       "\n",
       "    .dataframe thead th {\n",
       "        text-align: right;\n",
       "    }\n",
       "</style>\n",
       "<table border=\"1\" class=\"dataframe\">\n",
       "  <thead>\n",
       "    <tr style=\"text-align: right;\">\n",
       "      <th></th>\n",
       "      <th>geometry</th>\n",
       "    </tr>\n",
       "  </thead>\n",
       "  <tbody>\n",
       "    <tr>\n",
       "      <th>0</th>\n",
       "      <td>POLYGON ((559233.048 4104329.171, 559217.283 4...</td>\n",
       "    </tr>\n",
       "    <tr>\n",
       "      <th>0</th>\n",
       "      <td>POLYGON ((576468.529 4089385.949, 576463.345 4...</td>\n",
       "    </tr>\n",
       "    <tr>\n",
       "      <th>0</th>\n",
       "      <td>POLYGON ((575818.471 4090940.96, 575831.435 40...</td>\n",
       "    </tr>\n",
       "    <tr>\n",
       "      <th>0</th>\n",
       "      <td>POLYGON ((572641.175 4092507.334, 572622.136 4...</td>\n",
       "    </tr>\n",
       "    <tr>\n",
       "      <th>0</th>\n",
       "      <td>POLYGON ((577831.525 4086810.027, 577846.342 4...</td>\n",
       "    </tr>\n",
       "  </tbody>\n",
       "</table>\n",
       "</div>"
      ],
      "text/plain": [
       "                                            geometry\n",
       "0  POLYGON ((559233.048 4104329.171, 559217.283 4...\n",
       "0  POLYGON ((576468.529 4089385.949, 576463.345 4...\n",
       "0  POLYGON ((575818.471 4090940.96, 575831.435 40...\n",
       "0  POLYGON ((572641.175 4092507.334, 572622.136 4...\n",
       "0  POLYGON ((577831.525 4086810.027, 577846.342 4..."
      ]
     },
     "execution_count": 30,
     "metadata": {},
     "output_type": "execute_result"
    }
   ],
   "source": [
    "simple_buffer_exploded.head()"
   ]
  },
  {
   "cell_type": "code",
   "execution_count": 31,
   "id": "83563cb5-dce2-4f4d-8da4-36793d7eaa03",
   "metadata": {},
   "outputs": [],
   "source": [
    "simple_buffer_exploded = simple_buffer_exploded.reset_index(drop=True).reset_index()"
   ]
  },
  {
   "cell_type": "code",
   "execution_count": 32,
   "id": "368d9606-c3a5-4bab-b478-0ebdaf446ada",
   "metadata": {},
   "outputs": [],
   "source": [
    "simple_buffer_exploded.columns = ['reef_id', 'geometry']"
   ]
  },
  {
   "cell_type": "code",
   "execution_count": 62,
   "id": "b93ae356-16e2-40a9-891a-7ffe19f0a9ca",
   "metadata": {},
   "outputs": [
    {
     "data": {
      "text/html": [
       "<div>\n",
       "<style scoped>\n",
       "    .dataframe tbody tr th:only-of-type {\n",
       "        vertical-align: middle;\n",
       "    }\n",
       "\n",
       "    .dataframe tbody tr th {\n",
       "        vertical-align: top;\n",
       "    }\n",
       "\n",
       "    .dataframe thead th {\n",
       "        text-align: right;\n",
       "    }\n",
       "</style>\n",
       "<table border=\"1\" class=\"dataframe\">\n",
       "  <thead>\n",
       "    <tr style=\"text-align: right;\">\n",
       "      <th></th>\n",
       "      <th>reef_id</th>\n",
       "      <th>geometry</th>\n",
       "    </tr>\n",
       "  </thead>\n",
       "  <tbody>\n",
       "    <tr>\n",
       "      <th>0</th>\n",
       "      <td>0</td>\n",
       "      <td>POLYGON ((-122.33356 37.08338, -122.33374 37.0...</td>\n",
       "    </tr>\n",
       "    <tr>\n",
       "      <th>1</th>\n",
       "      <td>1</td>\n",
       "      <td>POLYGON ((-122.14117 36.94744, -122.14123 36.9...</td>\n",
       "    </tr>\n",
       "    <tr>\n",
       "      <th>2</th>\n",
       "      <td>2</td>\n",
       "      <td>POLYGON ((-122.14832 36.96151, -122.14817 36.9...</td>\n",
       "    </tr>\n",
       "    <tr>\n",
       "      <th>3</th>\n",
       "      <td>3</td>\n",
       "      <td>POLYGON ((-122.18386 36.97588, -122.18407 36.9...</td>\n",
       "    </tr>\n",
       "    <tr>\n",
       "      <th>4</th>\n",
       "      <td>4</td>\n",
       "      <td>POLYGON ((-122.12613 36.92411, -122.12597 36.9...</td>\n",
       "    </tr>\n",
       "  </tbody>\n",
       "</table>\n",
       "</div>"
      ],
      "text/plain": [
       "   reef_id                                           geometry\n",
       "0        0  POLYGON ((-122.33356 37.08338, -122.33374 37.0...\n",
       "1        1  POLYGON ((-122.14117 36.94744, -122.14123 36.9...\n",
       "2        2  POLYGON ((-122.14832 36.96151, -122.14817 36.9...\n",
       "3        3  POLYGON ((-122.18386 36.97588, -122.18407 36.9...\n",
       "4        4  POLYGON ((-122.12613 36.92411, -122.12597 36.9..."
      ]
     },
     "execution_count": 62,
     "metadata": {},
     "output_type": "execute_result"
    }
   ],
   "source": [
    "simple_buffer_exploded.head()"
   ]
  },
  {
   "cell_type": "code",
   "execution_count": 63,
   "id": "5e2215f8-912c-431a-9634-e8281ff4b511",
   "metadata": {},
   "outputs": [],
   "source": [
    "simple_num_vertices = [simple.geometry.apply(lambda g: len(g.exterior.coords))]"
   ]
  },
  {
   "cell_type": "markdown",
   "id": "662a667c-6e44-4489-bf5b-51f044968ab4",
   "metadata": {},
   "source": [
    "# get the area of hard benthic substrate at each location"
   ]
  },
  {
   "cell_type": "code",
   "execution_count": 64,
   "id": "8ebdf531-8e80-48ff-a7c2-331fab4f7e26",
   "metadata": {},
   "outputs": [],
   "source": [
    "centroids = ex.to_crs(m_crs)"
   ]
  },
  {
   "cell_type": "code",
   "execution_count": 65,
   "id": "226496e3-abc8-4422-9e74-ab66702d7311",
   "metadata": {},
   "outputs": [],
   "source": [
    "centroids['area_m2'] = centroids.geometry.area"
   ]
  },
  {
   "cell_type": "code",
   "execution_count": 66,
   "id": "c6bfcb5f-baaa-4677-9f66-b6469684060e",
   "metadata": {},
   "outputs": [],
   "source": [
    "centroids.geometry = centroids.geometry.centroid"
   ]
  },
  {
   "cell_type": "code",
   "execution_count": 67,
   "id": "477bd7be-0921-44b7-a27b-2b6d812a4971",
   "metadata": {},
   "outputs": [
    {
     "data": {
      "text/html": [
       "<div>\n",
       "<style scoped>\n",
       "    .dataframe tbody tr th:only-of-type {\n",
       "        vertical-align: middle;\n",
       "    }\n",
       "\n",
       "    .dataframe tbody tr th {\n",
       "        vertical-align: top;\n",
       "    }\n",
       "\n",
       "    .dataframe thead th {\n",
       "        text-align: right;\n",
       "    }\n",
       "</style>\n",
       "<table border=\"1\" class=\"dataframe\">\n",
       "  <thead>\n",
       "    <tr style=\"text-align: right;\">\n",
       "      <th></th>\n",
       "      <th>zone</th>\n",
       "      <th>Sub</th>\n",
       "      <th>geometry</th>\n",
       "      <th>area_m2</th>\n",
       "    </tr>\n",
       "  </thead>\n",
       "  <tbody>\n",
       "    <tr>\n",
       "      <th>0</th>\n",
       "      <td>0 - 30m</td>\n",
       "      <td>Hard</td>\n",
       "      <td>POINT (1047148.307 3614993.61)</td>\n",
       "      <td>50.370042</td>\n",
       "    </tr>\n",
       "    <tr>\n",
       "      <th>1</th>\n",
       "      <td>0 - 30m</td>\n",
       "      <td>Hard</td>\n",
       "      <td>POINT (1047202.855 3615006.746)</td>\n",
       "      <td>100.739730</td>\n",
       "    </tr>\n",
       "    <tr>\n",
       "      <th>2</th>\n",
       "      <td>0 - 30m</td>\n",
       "      <td>Hard</td>\n",
       "      <td>POINT (1047175.156 3615007.693)</td>\n",
       "      <td>50.370617</td>\n",
       "    </tr>\n",
       "    <tr>\n",
       "      <th>3</th>\n",
       "      <td>0 - 30m</td>\n",
       "      <td>Hard</td>\n",
       "      <td>POINT (1047019.124 3615011.44)</td>\n",
       "      <td>25.185437</td>\n",
       "    </tr>\n",
       "    <tr>\n",
       "      <th>4</th>\n",
       "      <td>0 - 30m</td>\n",
       "      <td>Hard</td>\n",
       "      <td>POINT (1047207.299 3615017.05)</td>\n",
       "      <td>100.740480</td>\n",
       "    </tr>\n",
       "  </tbody>\n",
       "</table>\n",
       "</div>"
      ],
      "text/plain": [
       "      zone   Sub                         geometry     area_m2\n",
       "0  0 - 30m  Hard   POINT (1047148.307 3614993.61)   50.370042\n",
       "1  0 - 30m  Hard  POINT (1047202.855 3615006.746)  100.739730\n",
       "2  0 - 30m  Hard  POINT (1047175.156 3615007.693)   50.370617\n",
       "3  0 - 30m  Hard   POINT (1047019.124 3615011.44)   25.185437\n",
       "4  0 - 30m  Hard   POINT (1047207.299 3615017.05)  100.740480"
      ]
     },
     "execution_count": 67,
     "metadata": {},
     "output_type": "execute_result"
    }
   ],
   "source": [
    "centroids.head()"
   ]
  },
  {
   "cell_type": "code",
   "execution_count": 68,
   "id": "0dd9816e-5493-4d15-91d3-b19d3bfbf00c",
   "metadata": {},
   "outputs": [],
   "source": [
    "centroids = centroids.to_crs(ll_crs)\n",
    "simple_buffer_exploded = simple_buffer_exploded.to_crs(centroids.crs)\n",
    "\n",
    "centroids['reef_id'] = [None] * len(centroids)\n",
    "for i,g in enumerate(centroids.geometry):\n",
    "    for j,(reef, rid) in enumerate(zip(simple_buffer_exploded.geometry,simple_buffer_exploded.reef_id)):\n",
    "        if g.intersects(reef):\n",
    "            centroids.loc[i, 'reef_id'] = rid"
   ]
  },
  {
   "cell_type": "code",
   "execution_count": 69,
   "id": "fe9f977b-2833-4121-8f6e-5fa22eac659f",
   "metadata": {},
   "outputs": [
    {
     "data": {
      "text/plain": [
       "(3, 6.6581442420368595e-06)"
      ]
     },
     "execution_count": 69,
     "metadata": {},
     "output_type": "execute_result"
    }
   ],
   "source": [
    "centroids.reef_id.isna().sum(), centroids.reef_id.isna().mean()"
   ]
  },
  {
   "cell_type": "code",
   "execution_count": 70,
   "id": "d40709ac-dbd3-40b2-9e48-6895528662a1",
   "metadata": {},
   "outputs": [
    {
     "data": {
      "text/html": [
       "<div>\n",
       "<style scoped>\n",
       "    .dataframe tbody tr th:only-of-type {\n",
       "        vertical-align: middle;\n",
       "    }\n",
       "\n",
       "    .dataframe tbody tr th {\n",
       "        vertical-align: top;\n",
       "    }\n",
       "\n",
       "    .dataframe thead th {\n",
       "        text-align: right;\n",
       "    }\n",
       "</style>\n",
       "<table border=\"1\" class=\"dataframe\">\n",
       "  <thead>\n",
       "    <tr style=\"text-align: right;\">\n",
       "      <th></th>\n",
       "      <th>zone</th>\n",
       "      <th>Sub</th>\n",
       "      <th>geometry</th>\n",
       "      <th>area_m2</th>\n",
       "      <th>reef_id</th>\n",
       "    </tr>\n",
       "  </thead>\n",
       "  <tbody>\n",
       "    <tr>\n",
       "      <th>83569</th>\n",
       "      <td>0 - 30m</td>\n",
       "      <td>Hard</td>\n",
       "      <td>POINT (-119.9747 34.4432)</td>\n",
       "      <td>8.570034e+05</td>\n",
       "      <td>None</td>\n",
       "    </tr>\n",
       "    <tr>\n",
       "      <th>113469</th>\n",
       "      <td>0 - 30m</td>\n",
       "      <td>Hard</td>\n",
       "      <td>POINT (-120.03385 34.45993)</td>\n",
       "      <td>5.929724e+05</td>\n",
       "      <td>None</td>\n",
       "    </tr>\n",
       "    <tr>\n",
       "      <th>370117</th>\n",
       "      <td>0 - 30m</td>\n",
       "      <td>Hard</td>\n",
       "      <td>POINT (-121.93278 36.63379)</td>\n",
       "      <td>3.179762e+06</td>\n",
       "      <td>None</td>\n",
       "    </tr>\n",
       "  </tbody>\n",
       "</table>\n",
       "</div>"
      ],
      "text/plain": [
       "           zone   Sub                     geometry       area_m2 reef_id\n",
       "83569   0 - 30m  Hard    POINT (-119.9747 34.4432)  8.570034e+05    None\n",
       "113469  0 - 30m  Hard  POINT (-120.03385 34.45993)  5.929724e+05    None\n",
       "370117  0 - 30m  Hard  POINT (-121.93278 36.63379)  3.179762e+06    None"
      ]
     },
     "execution_count": 70,
     "metadata": {},
     "output_type": "execute_result"
    }
   ],
   "source": [
    "centroids.loc[centroids.reef_id.isna()]"
   ]
  },
  {
   "cell_type": "code",
   "execution_count": 71,
   "id": "f6335b8b-3a6b-4c1d-be44-fe60bde94302",
   "metadata": {},
   "outputs": [],
   "source": [
    "c = centroids.geometry.loc[83569]"
   ]
  },
  {
   "cell_type": "code",
   "execution_count": 72,
   "id": "64cca134-f266-439a-b6f5-f6ce53afda10",
   "metadata": {},
   "outputs": [
    {
     "data": {
      "text/plain": [
       "3.1873056535209767"
      ]
     },
     "execution_count": 72,
     "metadata": {},
     "output_type": "execute_result"
    }
   ],
   "source": [
    "c.distance(simple_buffer_exploded.geometry[0])"
   ]
  },
  {
   "cell_type": "code",
   "execution_count": 125,
   "id": "b28a8fba-5439-4bc6-9e2c-408353572950",
   "metadata": {},
   "outputs": [],
   "source": [
    "missing_ids = pd.DataFrame({'centroid_ids': centroids.loc[centroids.reef_id.isna()].index})\n",
    "missing_ids['reef_id'] = [np.nan] * len(centroids.loc[centroids.reef_id.isna()].index)\n",
    "missing_ids.centroid_ids = missing_ids.centroid_ids.astype(int)\n",
    "missing_ids = missing_ids.set_index('centroid_ids')"
   ]
  },
  {
   "cell_type": "code",
   "execution_count": 126,
   "id": "c8f0f59c-1007-4a17-b0a2-0fbc32e640d6",
   "metadata": {},
   "outputs": [
    {
     "data": {
      "text/html": [
       "<div>\n",
       "<style scoped>\n",
       "    .dataframe tbody tr th:only-of-type {\n",
       "        vertical-align: middle;\n",
       "    }\n",
       "\n",
       "    .dataframe tbody tr th {\n",
       "        vertical-align: top;\n",
       "    }\n",
       "\n",
       "    .dataframe thead th {\n",
       "        text-align: right;\n",
       "    }\n",
       "</style>\n",
       "<table border=\"1\" class=\"dataframe\">\n",
       "  <thead>\n",
       "    <tr style=\"text-align: right;\">\n",
       "      <th></th>\n",
       "      <th>reef_id</th>\n",
       "    </tr>\n",
       "    <tr>\n",
       "      <th>centroid_ids</th>\n",
       "      <th></th>\n",
       "    </tr>\n",
       "  </thead>\n",
       "  <tbody>\n",
       "    <tr>\n",
       "      <th>83569</th>\n",
       "      <td>170.0</td>\n",
       "    </tr>\n",
       "    <tr>\n",
       "      <th>113469</th>\n",
       "      <td>161.0</td>\n",
       "    </tr>\n",
       "    <tr>\n",
       "      <th>370117</th>\n",
       "      <td>10.0</td>\n",
       "    </tr>\n",
       "  </tbody>\n",
       "</table>\n",
       "</div>"
      ],
      "text/plain": [
       "              reef_id\n",
       "centroid_ids         \n",
       "83569           170.0\n",
       "113469          161.0\n",
       "370117           10.0"
      ]
     },
     "execution_count": 126,
     "metadata": {},
     "output_type": "execute_result"
    }
   ],
   "source": [
    "for idx in missing_ids.index:\n",
    "    \n",
    "    g = centroids.geometry.iloc[idx]\n",
    "    distances = simple_buffer_exploded.geometry.apply(lambda p: g.distance(p))\n",
    "    rid_min_dist = float(simple_buffer_exploded.reef_id.loc[distances == distances.min()].iloc[0])\n",
    "\n",
    "    missing_ids.loc[idx, 'reef_id'] = rid_min_dist\n",
    "    \n",
    "missing_ids"
   ]
  },
  {
   "cell_type": "code",
   "execution_count": 133,
   "id": "d8809cce-7412-4a4d-b7eb-990e1e9865a3",
   "metadata": {},
   "outputs": [],
   "source": [
    "cent = centroids.copy()"
   ]
  },
  {
   "cell_type": "code",
   "execution_count": 137,
   "id": "31628686-b6f6-4fed-af9a-ddcbdbcb1a10",
   "metadata": {},
   "outputs": [],
   "source": [
    "for idx,rid in zip(missing_ids.index, missing_ids.reef_id):\n",
    "    cent.loc[idx, 'reef_id'] = rid"
   ]
  },
  {
   "cell_type": "code",
   "execution_count": 140,
   "id": "feb60af9-de7b-47ed-a813-b0d742d1d583",
   "metadata": {},
   "outputs": [
    {
     "data": {
      "text/plain": [
       "(0, 0.0)"
      ]
     },
     "execution_count": 140,
     "metadata": {},
     "output_type": "execute_result"
    }
   ],
   "source": [
    "cent.reef_id.isna().sum(), cent.reef_id.isna().mean()"
   ]
  },
  {
   "cell_type": "markdown",
   "id": "d919ef20-3fe4-4b2a-b0cb-0ab0f3ceba24",
   "metadata": {},
   "source": [
    "# save simplified shapefiles"
   ]
  },
  {
   "cell_type": "code",
   "execution_count": 141,
   "id": "e0188635-6cf8-484f-a776-80fa8cc2e37d",
   "metadata": {},
   "outputs": [],
   "source": [
    "# distinct reefs\n",
    "simple_buffer_exploded.to_file('clean_data/benthic_simplified/benthic_simplified.shp')"
   ]
  },
  {
   "cell_type": "code",
   "execution_count": 142,
   "id": "62d19d8b-f9d6-45eb-9ad7-141893ca3405",
   "metadata": {},
   "outputs": [],
   "source": [
    "# points and reef area\n",
    "cent.to_file('clean_data/benthic_simplified/centroids.shp')"
   ]
  }
 ],
 "metadata": {
  "kernelspec": {
   "display_name": "Python 3 (ipykernel)",
   "language": "python",
   "name": "python3"
  },
  "language_info": {
   "codemirror_mode": {
    "name": "ipython",
    "version": 3
   },
   "file_extension": ".py",
   "mimetype": "text/x-python",
   "name": "python",
   "nbconvert_exporter": "python",
   "pygments_lexer": "ipython3",
   "version": "3.12.2"
  }
 },
 "nbformat": 4,
 "nbformat_minor": 5
}
