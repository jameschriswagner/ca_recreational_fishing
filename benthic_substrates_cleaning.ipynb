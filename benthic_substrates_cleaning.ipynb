{
 "cells": [
  {
   "cell_type": "code",
   "execution_count": 1,
   "id": "37d36dd1-9c9e-45af-a4e8-80e4b3831a60",
   "metadata": {},
   "outputs": [],
   "source": [
    "import geopandas as gpd\n",
    "import matplotlib.pyplot as plt\n",
    "import numpy as np\n",
    "import pandas as pd"
   ]
  },
  {
   "cell_type": "code",
   "execution_count": 2,
   "id": "5cda707d-00fd-474f-b066-ecfc51e2ee36",
   "metadata": {},
   "outputs": [],
   "source": [
    "m_crs = 'EPSG:26910'\n",
    "ll_crs = 'EPSG:4326'"
   ]
  },
  {
   "cell_type": "code",
   "execution_count": null,
   "id": "9d03f252-0b73-437c-8059-2b254dad0767",
   "metadata": {},
   "outputs": [],
   "source": [
    "benthic = gpd.read_file('clean_data/benthic/benthic_substrates.shp')"
   ]
  },
  {
   "cell_type": "code",
   "execution_count": null,
   "id": "110c14fc-0e82-4378-97c7-28e93a3b030a",
   "metadata": {},
   "outputs": [],
   "source": [
    "coastline = gpd.read_file('clean_data/coastline/mainland_coast.shp') # linestring gdf\n",
    "ocean = gpd.read_file('clean_data/coastline/small_coast.shp') # for plotting\n",
    "\n",
    "counties = gpd.read_file('raw_datasets/ca_counties/ca_counties.shp').to_crs(ll_crs)\n",
    "keys = ['sd', 'ora', 'la', 'ven', 'sb', 'slo', 'mon', 'scr']\n",
    "county_keys = {'sd': 'San Diego',\n",
    "               'ora': 'Orange',\n",
    "               'la': 'Los Angeles',\n",
    "               'ven': 'Ventura',\n",
    "               'sb': 'Santa Barbara',\n",
    "               'slo': 'San Luis Obispo',\n",
    "               'mon': 'Monterey',\n",
    "               'scr': 'Santa Cruz'}\n",
    "county_names = [county_keys[key] for key in keys]\n",
    "counties = counties.loc[[(name in county_names) for name in counties.NAME]].reset_index(drop=True)"
   ]
  },
  {
   "cell_type": "code",
   "execution_count": null,
   "id": "b1c8266f-c780-431d-8082-041001d25c5d",
   "metadata": {},
   "outputs": [],
   "source": [
    "# relevant reefs are hard substrate from 0-100m depth, where recreational fishing might potentially occur\n",
    "rocks = benthic.loc[(benthic.Sub == 'Hard') & (benthic.zone.isin(['0 - 30m', '30 - 100m']))].reset_index(drop=True)"
   ]
  },
  {
   "cell_type": "code",
   "execution_count": null,
   "id": "af576580-e508-40d9-b4d4-0118d3ac1f03",
   "metadata": {},
   "outputs": [],
   "source": [
    "rocks.head()"
   ]
  },
  {
   "cell_type": "markdown",
   "id": "dc24a7b6-e3a6-42f9-8993-4dc02be5ed44",
   "metadata": {},
   "source": [
    "# split reefs up and subset for within study region and within 5km of the coastline"
   ]
  },
  {
   "cell_type": "code",
   "execution_count": null,
   "id": "190ed09a-565e-4679-b14f-3f5f93a7d6d5",
   "metadata": {},
   "outputs": [],
   "source": [
    "ex = rocks.filter(['zone', 'Sub', 'geometry']).explode().reset_index(drop=True)"
   ]
  },
  {
   "cell_type": "code",
   "execution_count": null,
   "id": "d07e17c3-1540-4b45-a5f3-c6138fa54cab",
   "metadata": {},
   "outputs": [],
   "source": [
    "# filter for only reefs within this square\n",
    "from shapely.geometry import Polygon\n",
    "\n",
    "coords = [(-122.5,37.5), (-122.5,32.4), (-116,32.4), (-116,37.5)]\n",
    "polygon = Polygon(coords)\n",
    "\n",
    "# Create a GeoDataFrame to handle and visualize the Polygon\n",
    "gdf = gpd.GeoDataFrame({'geometry': [polygon]})\n",
    "\n",
    "# Set a Coordinate Reference System (CRS) if necessary (e.g., EPSG:4326 for lat/lon)\n",
    "gdf = gdf.set_crs(ll_crs)\n",
    "gdf = gdf.to_crs(ex.crs)\n",
    "\n",
    "# filter reefs within target region\n",
    "within_target = ex.geometry.intersects(gdf.geometry[0])\n",
    "ex = ex.loc[within_target].reset_index(drop=True)"
   ]
  },
  {
   "cell_type": "code",
   "execution_count": null,
   "id": "da0ff48e-37d4-4a8d-9409-7c4172e6b639",
   "metadata": {},
   "outputs": [],
   "source": [
    "# make a 5km buffer from the coastline and only keep reefs there\n",
    "coastline = coastline.to_crs(m_crs)\n",
    "buffer = coastline.geometry[0].buffer(5 * 1000)\n",
    "\n",
    "ex = ex.to_crs(coastline.crs)\n",
    "within_buffer = ex.geometry.intersects(buffer)\n",
    "ex = ex.loc[ex.geometry.intersects(buffer)].reset_index(drop=True)"
   ]
  },
  {
   "cell_type": "code",
   "execution_count": null,
   "id": "e5063810-ce1c-4032-9708-9c2992705516",
   "metadata": {},
   "outputs": [],
   "source": [
    "ex = ex.to_crs(ll_crs)\n",
    "coastline = coastline.to_crs(ex.crs)\n",
    "len(ex)"
   ]
  },
  {
   "cell_type": "code",
   "execution_count": null,
   "id": "e88b0272-ca8e-4790-924a-cb65721aa41a",
   "metadata": {
    "scrolled": true
   },
   "outputs": [],
   "source": [
    "'''fig, ax = plt.subplots(figsize=(10,10))\n",
    "\n",
    "counties.plot(ax=ax, color='red', alpha=0.5)\n",
    "ocean.plot(ax=ax, color = 'lightblue')\n",
    "coastline.plot(ax=ax, color='white', linewidth=1)\n",
    "\n",
    "ex.plot(ax=ax, color = 'gray')'''"
   ]
  },
  {
   "cell_type": "markdown",
   "id": "ca9edf84-fd8b-46a6-850d-28f7dccfef97",
   "metadata": {},
   "source": [
    "# simplify remaining geometries using the Ramer–Douglas–Peucker algorithm (shapely.simplify()"
   ]
  },
  {
   "cell_type": "code",
   "execution_count": null,
   "id": "231beed2-f708-440a-a12f-97dd02a11b36",
   "metadata": {},
   "outputs": [],
   "source": [
    "g = ex.geometry[11]"
   ]
  },
  {
   "cell_type": "code",
   "execution_count": null,
   "id": "b0eaaaf9-b67b-4283-a618-791ace4639f1",
   "metadata": {},
   "outputs": [],
   "source": [
    "g.area"
   ]
  },
  {
   "cell_type": "code",
   "execution_count": null,
   "id": "d28c026d-8dd7-4dd7-928c-6b293f6ddff6",
   "metadata": {},
   "outputs": [],
   "source": [
    "g"
   ]
  },
  {
   "cell_type": "code",
   "execution_count": null,
   "id": "e2dca0cc-956b-4892-acd2-6b661b1cc4ac",
   "metadata": {},
   "outputs": [],
   "source": [
    "from shapely import simplify"
   ]
  },
  {
   "cell_type": "code",
   "execution_count": null,
   "id": "72e61559-a40c-4e1f-b452-9511f1d95016",
   "metadata": {},
   "outputs": [],
   "source": [
    "simplify(g, 5)"
   ]
  },
  {
   "cell_type": "code",
   "execution_count": null,
   "id": "e35143ce-d8b2-4727-94f6-c7a95a40ce45",
   "metadata": {},
   "outputs": [],
   "source": [
    "# simplify within tolerance 5m\n",
    "from shapely import simplify\n",
    "simple = ex.copy().to_crs(m_crs)\n",
    "\n",
    "epsilon = 5 # 5m tolerance\n",
    "simple.geometry = ex.geometry.apply(lambda g: simplify(g, epsilon))"
   ]
  },
  {
   "cell_type": "code",
   "execution_count": null,
   "id": "2a29bb5b-dba3-41a5-ab0d-2606430ec704",
   "metadata": {},
   "outputs": [],
   "source": [
    "simple = simple.to_crs(ll_crs)"
   ]
  },
  {
   "cell_type": "code",
   "execution_count": null,
   "id": "44e70b12-8978-4887-818a-0d335144ae1a",
   "metadata": {},
   "outputs": [],
   "source": [
    "fig, ax = plt.subplots(figsize=(10,10))\n",
    "\n",
    "counties.plot(ax=ax, color='red', alpha=0.5)\n",
    "ocean.plot(ax=ax, color = 'lightblue')\n",
    "coastline.plot(ax=ax, color='white', linewidth=1)\n",
    "\n",
    "simple.plot(ax=ax, color = 'gray')"
   ]
  },
  {
   "cell_type": "code",
   "execution_count": null,
   "id": "fd9d436f-7914-480c-a97d-391b4e3350b0",
   "metadata": {},
   "outputs": [],
   "source": [
    "ex_num_vertices = [ex.geometry.apply(lambda g: len(g.exterior.coords))]"
   ]
  },
  {
   "cell_type": "code",
   "execution_count": null,
   "id": "dbddcaf1-41f1-43a6-8696-c146cc111803",
   "metadata": {},
   "outputs": [],
   "source": [
    "simple_num_vertices = [simple.geometry.apply(lambda g: len(g.exterior.coords))]"
   ]
  },
  {
   "cell_type": "code",
   "execution_count": null,
   "id": "52d93789-0957-4732-a4b2-504952e0048d",
   "metadata": {},
   "outputs": [],
   "source": [
    "np.mean(ex_num_vertices)"
   ]
  },
  {
   "cell_type": "code",
   "execution_count": null,
   "id": "78f6f2b4-30ea-4859-80a3-705554d35a2c",
   "metadata": {},
   "outputs": [],
   "source": [
    "np.mean(simple_num_vertices)"
   ]
  },
  {
   "cell_type": "markdown",
   "id": "1bc593ee-eb7b-4926-9961-c640e390d78a",
   "metadata": {},
   "source": [
    "# further simplify geometry with buffer method"
   ]
  },
  {
   "cell_type": "code",
   "execution_count": null,
   "id": "a017d6d1-3ce9-48b5-be65-75a53c913d0d",
   "metadata": {},
   "outputs": [],
   "source": [
    "# buffer is at 200m\n",
    "simple = simple.to_crs(m_crs)"
   ]
  },
  {
   "cell_type": "code",
   "execution_count": null,
   "id": "4c4a338a-f1e2-40aa-9af9-a5ac0fb0a92a",
   "metadata": {},
   "outputs": [],
   "source": [
    "simple_buffer = simple.geometry.apply(lambda g: g.buffer(200))"
   ]
  },
  {
   "cell_type": "code",
   "execution_count": null,
   "id": "072be6e1-0dfc-4d28-9db3-3ce19e618685",
   "metadata": {},
   "outputs": [],
   "source": [
    "simple_buffer_union = simple_buffer.union_all()"
   ]
  },
  {
   "cell_type": "code",
   "execution_count": null,
   "id": "96d65482-5aaf-4c25-b31f-9eadbc08e9c7",
   "metadata": {},
   "outputs": [],
   "source": [
    "simple_buffer =gpd.GeoDataFrame(geometry=[simple_buffer_union], crs = simple.crs)"
   ]
  },
  {
   "cell_type": "code",
   "execution_count": null,
   "id": "ae4d982c-367b-4d57-ad3e-c027499506a8",
   "metadata": {},
   "outputs": [],
   "source": [
    "simple_buffer_exploded = simple_buffer.explode()"
   ]
  },
  {
   "cell_type": "code",
   "execution_count": null,
   "id": "68bed11b-0d09-4e47-a520-8c02bb63c58a",
   "metadata": {},
   "outputs": [],
   "source": [
    "len(simple_buffer_exploded)"
   ]
  },
  {
   "cell_type": "code",
   "execution_count": null,
   "id": "16742727-b061-454a-a195-2a0c73fff8f1",
   "metadata": {},
   "outputs": [],
   "source": [
    "simple_buffer_exploded.head()"
   ]
  },
  {
   "cell_type": "code",
   "execution_count": null,
   "id": "83563cb5-dce2-4f4d-8da4-36793d7eaa03",
   "metadata": {},
   "outputs": [],
   "source": [
    "simple_buffer_exploded = simple_buffer_exploded.reset_index(drop=True).reset_index()"
   ]
  },
  {
   "cell_type": "code",
   "execution_count": null,
   "id": "368d9606-c3a5-4bab-b478-0ebdaf446ada",
   "metadata": {},
   "outputs": [],
   "source": [
    "simple_buffer_exploded.columns = ['reef_id', 'geometry']"
   ]
  },
  {
   "cell_type": "code",
   "execution_count": null,
   "id": "b93ae356-16e2-40a9-891a-7ffe19f0a9ca",
   "metadata": {},
   "outputs": [],
   "source": [
    "simple_buffer_exploded.head()"
   ]
  },
  {
   "cell_type": "code",
   "execution_count": null,
   "id": "5e2215f8-912c-431a-9634-e8281ff4b511",
   "metadata": {},
   "outputs": [],
   "source": [
    "simple_num_vertices = [simple.geometry.apply(lambda g: len(g.exterior.coords))]"
   ]
  },
  {
   "cell_type": "markdown",
   "id": "662a667c-6e44-4489-bf5b-51f044968ab4",
   "metadata": {},
   "source": [
    "# get the area of hard benthic substrate at each location"
   ]
  },
  {
   "cell_type": "code",
   "execution_count": null,
   "id": "8ebdf531-8e80-48ff-a7c2-331fab4f7e26",
   "metadata": {},
   "outputs": [],
   "source": [
    "centroids = ex.to_crs(m_crs)"
   ]
  },
  {
   "cell_type": "code",
   "execution_count": null,
   "id": "226496e3-abc8-4422-9e74-ab66702d7311",
   "metadata": {},
   "outputs": [],
   "source": [
    "centroids['area_m2'] = centroids.geometry.area"
   ]
  },
  {
   "cell_type": "code",
   "execution_count": null,
   "id": "c6bfcb5f-baaa-4677-9f66-b6469684060e",
   "metadata": {},
   "outputs": [],
   "source": [
    "centroids.geometry = centroids.geometry.centroid"
   ]
  },
  {
   "cell_type": "code",
   "execution_count": null,
   "id": "477bd7be-0921-44b7-a27b-2b6d812a4971",
   "metadata": {},
   "outputs": [],
   "source": [
    "centroids.head()"
   ]
  },
  {
   "cell_type": "code",
   "execution_count": null,
   "id": "0dd9816e-5493-4d15-91d3-b19d3bfbf00c",
   "metadata": {},
   "outputs": [],
   "source": [
    "centroids = centroids.to_crs(ll_crs)\n",
    "simple_buffer_exploded = simple_buffer_exploded.to_crs(centroids.crs)\n",
    "\n",
    "centroids['reef_id'] = [None] * len(centroids)\n",
    "for i,g in enumerate(centroids.geometry):\n",
    "    for j,(reef, rid) in enumerate(zip(simple_buffer_exploded.geometry,simple_buffer_exploded.reef_id)):\n",
    "        if g.intersects(reef):\n",
    "            centroids.loc[i, 'reef_id'] = rid"
   ]
  },
  {
   "cell_type": "code",
   "execution_count": null,
   "id": "fe9f977b-2833-4121-8f6e-5fa22eac659f",
   "metadata": {},
   "outputs": [],
   "source": [
    "centroids.reef_id.isna().sum(), centroids.reef_id.isna().mean()"
   ]
  },
  {
   "cell_type": "markdown",
   "id": "d919ef20-3fe4-4b2a-b0cb-0ab0f3ceba24",
   "metadata": {},
   "source": [
    "# save simplified shapefiles"
   ]
  },
  {
   "cell_type": "code",
   "execution_count": null,
   "id": "e0188635-6cf8-484f-a776-80fa8cc2e37d",
   "metadata": {},
   "outputs": [],
   "source": [
    "# distinct reefs\n",
    "simple_buffer_exploded.to_file('clean_data/benthic_simplified/benthic_simplified.shp')"
   ]
  },
  {
   "cell_type": "code",
   "execution_count": null,
   "id": "62d19d8b-f9d6-45eb-9ad7-141893ca3405",
   "metadata": {},
   "outputs": [],
   "source": [
    "# points and reef area\n",
    "centroids.to_file('clean_data/benthic_simplified/centroids.shp')"
   ]
  }
 ],
 "metadata": {
  "kernelspec": {
   "display_name": "Python 3 (ipykernel)",
   "language": "python",
   "name": "python3"
  },
  "language_info": {
   "codemirror_mode": {
    "name": "ipython",
    "version": 3
   },
   "file_extension": ".py",
   "mimetype": "text/x-python",
   "name": "python",
   "nbconvert_exporter": "python",
   "pygments_lexer": "ipython3",
   "version": "3.12.2"
  }
 },
 "nbformat": 4,
 "nbformat_minor": 5
}
